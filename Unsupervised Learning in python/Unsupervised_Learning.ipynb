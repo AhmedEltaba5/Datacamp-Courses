{
  "nbformat": 4,
  "nbformat_minor": 0,
  "metadata": {
    "colab": {
      "name": "Unsupervised Learning.ipynb",
      "provenance": [],
      "collapsed_sections": []
    },
    "kernelspec": {
      "name": "python3",
      "display_name": "Python 3"
    },
    "language_info": {
      "name": "python"
    }
  },
  "cells": [
    {
      "cell_type": "code",
      "metadata": {
        "id": "EntHYp6pGkCL"
      },
      "source": [
        "import pandas as pd\n",
        "import numpy as np"
      ],
      "execution_count": 103,
      "outputs": []
    },
    {
      "cell_type": "code",
      "metadata": {
        "id": "d7CSC5bxGll1"
      },
      "source": [
        "iris = pd.read_csv('datasets/Iris.csv')"
      ],
      "execution_count": 104,
      "outputs": []
    },
    {
      "cell_type": "code",
      "metadata": {
        "id": "EPBF4VpqGln1",
        "colab": {
          "base_uri": "https://localhost:8080/",
          "height": 204
        },
        "outputId": "394cb5d4-d7c3-40ca-e6c4-17b850b7c79a"
      },
      "source": [
        "iris.head()"
      ],
      "execution_count": 105,
      "outputs": [
        {
          "output_type": "execute_result",
          "data": {
            "text/html": [
              "<div>\n",
              "<style scoped>\n",
              "    .dataframe tbody tr th:only-of-type {\n",
              "        vertical-align: middle;\n",
              "    }\n",
              "\n",
              "    .dataframe tbody tr th {\n",
              "        vertical-align: top;\n",
              "    }\n",
              "\n",
              "    .dataframe thead th {\n",
              "        text-align: right;\n",
              "    }\n",
              "</style>\n",
              "<table border=\"1\" class=\"dataframe\">\n",
              "  <thead>\n",
              "    <tr style=\"text-align: right;\">\n",
              "      <th></th>\n",
              "      <th>Id</th>\n",
              "      <th>SepalLengthCm</th>\n",
              "      <th>SepalWidthCm</th>\n",
              "      <th>PetalLengthCm</th>\n",
              "      <th>PetalWidthCm</th>\n",
              "      <th>Species</th>\n",
              "    </tr>\n",
              "  </thead>\n",
              "  <tbody>\n",
              "    <tr>\n",
              "      <th>0</th>\n",
              "      <td>1</td>\n",
              "      <td>5.1</td>\n",
              "      <td>3.5</td>\n",
              "      <td>1.4</td>\n",
              "      <td>0.2</td>\n",
              "      <td>Iris-setosa</td>\n",
              "    </tr>\n",
              "    <tr>\n",
              "      <th>1</th>\n",
              "      <td>2</td>\n",
              "      <td>4.9</td>\n",
              "      <td>3.0</td>\n",
              "      <td>1.4</td>\n",
              "      <td>0.2</td>\n",
              "      <td>Iris-setosa</td>\n",
              "    </tr>\n",
              "    <tr>\n",
              "      <th>2</th>\n",
              "      <td>3</td>\n",
              "      <td>4.7</td>\n",
              "      <td>3.2</td>\n",
              "      <td>1.3</td>\n",
              "      <td>0.2</td>\n",
              "      <td>Iris-setosa</td>\n",
              "    </tr>\n",
              "    <tr>\n",
              "      <th>3</th>\n",
              "      <td>4</td>\n",
              "      <td>4.6</td>\n",
              "      <td>3.1</td>\n",
              "      <td>1.5</td>\n",
              "      <td>0.2</td>\n",
              "      <td>Iris-setosa</td>\n",
              "    </tr>\n",
              "    <tr>\n",
              "      <th>4</th>\n",
              "      <td>5</td>\n",
              "      <td>5.0</td>\n",
              "      <td>3.6</td>\n",
              "      <td>1.4</td>\n",
              "      <td>0.2</td>\n",
              "      <td>Iris-setosa</td>\n",
              "    </tr>\n",
              "  </tbody>\n",
              "</table>\n",
              "</div>"
            ],
            "text/plain": [
              "   Id  SepalLengthCm  SepalWidthCm  PetalLengthCm  PetalWidthCm      Species\n",
              "0   1            5.1           3.5            1.4           0.2  Iris-setosa\n",
              "1   2            4.9           3.0            1.4           0.2  Iris-setosa\n",
              "2   3            4.7           3.2            1.3           0.2  Iris-setosa\n",
              "3   4            4.6           3.1            1.5           0.2  Iris-setosa\n",
              "4   5            5.0           3.6            1.4           0.2  Iris-setosa"
            ]
          },
          "metadata": {},
          "execution_count": 105
        }
      ]
    },
    {
      "cell_type": "code",
      "metadata": {
        "id": "k4LS33qdGlrA",
        "colab": {
          "base_uri": "https://localhost:8080/"
        },
        "outputId": "107ee7b5-47af-491e-f0f3-006e485e4fa3"
      },
      "source": [
        "iris.info()"
      ],
      "execution_count": 106,
      "outputs": [
        {
          "output_type": "stream",
          "name": "stdout",
          "text": [
            "<class 'pandas.core.frame.DataFrame'>\n",
            "RangeIndex: 150 entries, 0 to 149\n",
            "Data columns (total 6 columns):\n",
            " #   Column         Non-Null Count  Dtype  \n",
            "---  ------         --------------  -----  \n",
            " 0   Id             150 non-null    int64  \n",
            " 1   SepalLengthCm  150 non-null    float64\n",
            " 2   SepalWidthCm   150 non-null    float64\n",
            " 3   PetalLengthCm  150 non-null    float64\n",
            " 4   PetalWidthCm   150 non-null    float64\n",
            " 5   Species        150 non-null    object \n",
            "dtypes: float64(4), int64(1), object(1)\n",
            "memory usage: 7.2+ KB\n"
          ]
        }
      ]
    },
    {
      "cell_type": "code",
      "metadata": {
        "id": "vRUwLcFhGltK"
      },
      "source": [
        "iris_features = iris.iloc[:, 1:5]"
      ],
      "execution_count": 107,
      "outputs": []
    },
    {
      "cell_type": "code",
      "metadata": {
        "id": "8ne53POMGl3I",
        "colab": {
          "base_uri": "https://localhost:8080/",
          "height": 204
        },
        "outputId": "319f5740-2d40-4a23-be24-06caee5e0b8a"
      },
      "source": [
        "iris_features.head()"
      ],
      "execution_count": 108,
      "outputs": [
        {
          "output_type": "execute_result",
          "data": {
            "text/html": [
              "<div>\n",
              "<style scoped>\n",
              "    .dataframe tbody tr th:only-of-type {\n",
              "        vertical-align: middle;\n",
              "    }\n",
              "\n",
              "    .dataframe tbody tr th {\n",
              "        vertical-align: top;\n",
              "    }\n",
              "\n",
              "    .dataframe thead th {\n",
              "        text-align: right;\n",
              "    }\n",
              "</style>\n",
              "<table border=\"1\" class=\"dataframe\">\n",
              "  <thead>\n",
              "    <tr style=\"text-align: right;\">\n",
              "      <th></th>\n",
              "      <th>SepalLengthCm</th>\n",
              "      <th>SepalWidthCm</th>\n",
              "      <th>PetalLengthCm</th>\n",
              "      <th>PetalWidthCm</th>\n",
              "    </tr>\n",
              "  </thead>\n",
              "  <tbody>\n",
              "    <tr>\n",
              "      <th>0</th>\n",
              "      <td>5.1</td>\n",
              "      <td>3.5</td>\n",
              "      <td>1.4</td>\n",
              "      <td>0.2</td>\n",
              "    </tr>\n",
              "    <tr>\n",
              "      <th>1</th>\n",
              "      <td>4.9</td>\n",
              "      <td>3.0</td>\n",
              "      <td>1.4</td>\n",
              "      <td>0.2</td>\n",
              "    </tr>\n",
              "    <tr>\n",
              "      <th>2</th>\n",
              "      <td>4.7</td>\n",
              "      <td>3.2</td>\n",
              "      <td>1.3</td>\n",
              "      <td>0.2</td>\n",
              "    </tr>\n",
              "    <tr>\n",
              "      <th>3</th>\n",
              "      <td>4.6</td>\n",
              "      <td>3.1</td>\n",
              "      <td>1.5</td>\n",
              "      <td>0.2</td>\n",
              "    </tr>\n",
              "    <tr>\n",
              "      <th>4</th>\n",
              "      <td>5.0</td>\n",
              "      <td>3.6</td>\n",
              "      <td>1.4</td>\n",
              "      <td>0.2</td>\n",
              "    </tr>\n",
              "  </tbody>\n",
              "</table>\n",
              "</div>"
            ],
            "text/plain": [
              "   SepalLengthCm  SepalWidthCm  PetalLengthCm  PetalWidthCm\n",
              "0            5.1           3.5            1.4           0.2\n",
              "1            4.9           3.0            1.4           0.2\n",
              "2            4.7           3.2            1.3           0.2\n",
              "3            4.6           3.1            1.5           0.2\n",
              "4            5.0           3.6            1.4           0.2"
            ]
          },
          "metadata": {},
          "execution_count": 108
        }
      ]
    },
    {
      "cell_type": "code",
      "metadata": {
        "id": "NN_JghzqGl4_"
      },
      "source": [
        "points = iris_features.values"
      ],
      "execution_count": 109,
      "outputs": []
    },
    {
      "cell_type": "code",
      "metadata": {
        "id": "5SJi-NLxGl8q",
        "colab": {
          "base_uri": "https://localhost:8080/"
        },
        "outputId": "39271343-e70f-43e2-f8e1-b0bb46d329b0"
      },
      "source": [
        "points.shape"
      ],
      "execution_count": 110,
      "outputs": [
        {
          "output_type": "execute_result",
          "data": {
            "text/plain": [
              "(150, 4)"
            ]
          },
          "metadata": {},
          "execution_count": 110
        }
      ]
    },
    {
      "cell_type": "code",
      "metadata": {
        "id": "fNJtf8CeM3O2"
      },
      "source": [
        "new_points = points.copy()"
      ],
      "execution_count": 111,
      "outputs": []
    },
    {
      "cell_type": "code",
      "metadata": {
        "id": "-VKEdVMwGmAR",
        "colab": {
          "base_uri": "https://localhost:8080/"
        },
        "outputId": "6ba8c48e-6f4a-402d-fb78-26158674e411"
      },
      "source": [
        "# Import KMeans\n",
        "from sklearn.cluster import KMeans\n",
        "\n",
        "# Create a KMeans instance with 3 clusters: model\n",
        "model = KMeans(n_clusters=3)\n",
        "\n",
        "# Fit model to points\n",
        "model.fit(points)\n",
        "\n",
        "# Determine the cluster labels of new_points: labels\n",
        "labels = model.predict(new_points)\n",
        "\n",
        "# Print cluster labels of new_points\n",
        "print(labels)"
      ],
      "execution_count": 112,
      "outputs": [
        {
          "output_type": "stream",
          "name": "stdout",
          "text": [
            "[0 0 0 0 0 0 0 0 0 0 0 0 0 0 0 0 0 0 0 0 0 0 0 0 0 0 0 0 0 0 0 0 0 0 0 0 0\n",
            " 0 0 0 0 0 0 0 0 0 0 0 0 0 1 1 2 1 1 1 1 1 1 1 1 1 1 1 1 1 1 1 1 1 1 1 1 1\n",
            " 1 1 1 2 1 1 1 1 1 1 1 1 1 1 1 1 1 1 1 1 1 1 1 1 1 1 2 1 2 2 2 2 1 2 2 2 2\n",
            " 2 2 1 1 2 2 2 2 1 2 1 2 1 2 2 1 1 2 2 2 2 2 1 2 2 2 2 1 2 2 2 1 2 2 2 1 2\n",
            " 2 1]\n"
          ]
        }
      ]
    },
    {
      "cell_type": "code",
      "metadata": {
        "colab": {
          "base_uri": "https://localhost:8080/",
          "height": 268
        },
        "id": "kh37C-VHMse-",
        "outputId": "0b827368-c505-4012-e92b-2c51c88e91c6"
      },
      "source": [
        "# Import pyplot\n",
        "import matplotlib.pyplot as plt\n",
        "\n",
        "# Assign the columns of new_points: xs and ys\n",
        "xs = new_points[:,0]\n",
        "ys = new_points[:,1]\n",
        "\n",
        "# Make a scatter plot of xs and ys, using labels to define the colors\n",
        "plt.scatter(xs, ys, c=labels, alpha=0.5)\n",
        "\n",
        "# Assign the cluster centers: centroids\n",
        "centroids = model.cluster_centers_\n",
        "\n",
        "# Assign the columns of centroids: centroids_x, centroids_y\n",
        "centroids_x = centroids[:,0]\n",
        "centroids_y = centroids[:,1]\n",
        "\n",
        "# Make a scatter plot of centroids_x and centroids_y\n",
        "plt.scatter(centroids_x, centroids_y, marker='D', s=50)\n",
        "plt.show()"
      ],
      "execution_count": 113,
      "outputs": [
        {
          "output_type": "display_data",
          "data": {
            "image/png": "[encoded data removed]",
            "text/plain": [
              "<Figure size 432x288 with 1 Axes>"
            ]
          },
          "metadata": {
            "needs_background": "light"
          }
        }
      ]
    },
    {
      "cell_type": "code",
      "metadata": {
        "id": "j6eGX5NDM6za"
      },
      "source": [
        "seeds = pd.read_csv('datasets/seeds.csv')"
      ],
      "execution_count": 115,
      "outputs": []
    },
    {
      "cell_type": "code",
      "metadata": {
        "colab": {
          "base_uri": "https://localhost:8080/",
          "height": 204
        },
        "id": "hVpIj-ToPH1R",
        "outputId": "aab5ce5a-28f5-4130-8798-b8b00039339b"
      },
      "source": [
        "seeds.head()"
      ],
      "execution_count": 116,
      "outputs": [
        {
          "output_type": "execute_result",
          "data": {
            "text/html": [
              "<div>\n",
              "<style scoped>\n",
              "    .dataframe tbody tr th:only-of-type {\n",
              "        vertical-align: middle;\n",
              "    }\n",
              "\n",
              "    .dataframe tbody tr th {\n",
              "        vertical-align: top;\n",
              "    }\n",
              "\n",
              "    .dataframe thead th {\n",
              "        text-align: right;\n",
              "    }\n",
              "</style>\n",
              "<table border=\"1\" class=\"dataframe\">\n",
              "  <thead>\n",
              "    <tr style=\"text-align: right;\">\n",
              "      <th></th>\n",
              "      <th>15.26</th>\n",
              "      <th>14.84</th>\n",
              "      <th>0.871</th>\n",
              "      <th>5.763</th>\n",
              "      <th>3.312</th>\n",
              "      <th>2.221</th>\n",
              "      <th>5.22</th>\n",
              "      <th>1</th>\n",
              "    </tr>\n",
              "  </thead>\n",
              "  <tbody>\n",
              "    <tr>\n",
              "      <th>0</th>\n",
              "      <td>14.88</td>\n",
              "      <td>14.57</td>\n",
              "      <td>0.8811</td>\n",
              "      <td>5.554</td>\n",
              "      <td>3.333</td>\n",
              "      <td>1.018</td>\n",
              "      <td>4.956</td>\n",
              "      <td>1</td>\n",
              "    </tr>\n",
              "    <tr>\n",
              "      <th>1</th>\n",
              "      <td>14.29</td>\n",
              "      <td>14.09</td>\n",
              "      <td>0.9050</td>\n",
              "      <td>5.291</td>\n",
              "      <td>3.337</td>\n",
              "      <td>2.699</td>\n",
              "      <td>4.825</td>\n",
              "      <td>1</td>\n",
              "    </tr>\n",
              "    <tr>\n",
              "      <th>2</th>\n",
              "      <td>13.84</td>\n",
              "      <td>13.94</td>\n",
              "      <td>0.8955</td>\n",
              "      <td>5.324</td>\n",
              "      <td>3.379</td>\n",
              "      <td>2.259</td>\n",
              "      <td>4.805</td>\n",
              "      <td>1</td>\n",
              "    </tr>\n",
              "    <tr>\n",
              "      <th>3</th>\n",
              "      <td>16.14</td>\n",
              "      <td>14.99</td>\n",
              "      <td>0.9034</td>\n",
              "      <td>5.658</td>\n",
              "      <td>3.562</td>\n",
              "      <td>1.355</td>\n",
              "      <td>5.175</td>\n",
              "      <td>1</td>\n",
              "    </tr>\n",
              "    <tr>\n",
              "      <th>4</th>\n",
              "      <td>14.38</td>\n",
              "      <td>14.21</td>\n",
              "      <td>0.8951</td>\n",
              "      <td>5.386</td>\n",
              "      <td>3.312</td>\n",
              "      <td>2.462</td>\n",
              "      <td>4.956</td>\n",
              "      <td>1</td>\n",
              "    </tr>\n",
              "  </tbody>\n",
              "</table>\n",
              "</div>"
            ],
            "text/plain": [
              "   15.26  14.84   0.871  5.763  3.312  2.221   5.22  1\n",
              "0  14.88  14.57  0.8811  5.554  3.333  1.018  4.956  1\n",
              "1  14.29  14.09  0.9050  5.291  3.337  2.699  4.825  1\n",
              "2  13.84  13.94  0.8955  5.324  3.379  2.259  4.805  1\n",
              "3  16.14  14.99  0.9034  5.658  3.562  1.355  5.175  1\n",
              "4  14.38  14.21  0.8951  5.386  3.312  2.462  4.956  1"
            ]
          },
          "metadata": {},
          "execution_count": 116
        }
      ]
    },
    {
      "cell_type": "code",
      "metadata": {
        "id": "K6ahvaRVPH4e"
      },
      "source": [
        "samples = seeds.iloc[:,:7].values\n",
        "varieties = seeds.iloc[:,7].values"
      ],
      "execution_count": 117,
      "outputs": []
    },
    {
      "cell_type": "code",
      "metadata": {
        "colab": {
          "base_uri": "https://localhost:8080/",
          "height": 279
        },
        "id": "kJHTuGnRPH7W",
        "outputId": "a0817752-6a6a-4d93-ab7e-25137af65539"
      },
      "source": [
        "ks = range(1, 6)\n",
        "inertias = []\n",
        "\n",
        "for k in ks:\n",
        "    # Create a KMeans instance with k clusters: model\n",
        "    model = KMeans(n_clusters=k)\n",
        "    \n",
        "    # Fit model to samples\n",
        "    model.fit(samples)\n",
        "    \n",
        "    # Append the inertia to the list of inertias\n",
        "    inertias.append(model.inertia_)\n",
        "    \n",
        "# Plot ks vs inertias\n",
        "plt.plot(ks, inertias, '-o')\n",
        "plt.xlabel('number of clusters, k')\n",
        "plt.ylabel('inertia')\n",
        "plt.xticks(ks)\n",
        "plt.show()\n"
      ],
      "execution_count": 118,
      "outputs": [
        {
          "output_type": "display_data",
          "data": {
            "image/png": "[encoded data removed]",
            "text/plain": [
              "<Figure size 432x288 with 1 Axes>"
            ]
          },
          "metadata": {
            "needs_background": "light"
          }
        }
      ]
    },
    {
      "cell_type": "code",
      "metadata": {
        "colab": {
          "base_uri": "https://localhost:8080/"
        },
        "id": "Ay5KJEZEPH9-",
        "outputId": "b37ea95f-aca6-463c-95b7-bdb403d6f544"
      },
      "source": [
        "# Create a KMeans model with 3 clusters: model\n",
        "model = KMeans(n_clusters=3)\n",
        "\n",
        "# Use fit_predict to fit model and obtain cluster labels: labels\n",
        "labels = model.fit_predict(samples)\n",
        "\n",
        "# Create a DataFrame with labels and varieties as columns: df\n",
        "df = pd.DataFrame({'labels': labels, 'varieties': varieties})\n",
        "\n",
        "# Create crosstab: ct\n",
        "ct = pd.crosstab(df['labels'], df['varieties'])\n",
        "\n",
        "# Display ct\n",
        "print(ct)\n"
      ],
      "execution_count": 119,
      "outputs": [
        {
          "output_type": "stream",
          "name": "stdout",
          "text": [
            "varieties   1   2   3\n",
            "labels               \n",
            "0           9   0  68\n",
            "1          59  10   2\n",
            "2           1  60   0\n"
          ]
        }
      ]
    },
    {
      "cell_type": "code",
      "metadata": {
        "colab": {
          "base_uri": "https://localhost:8080/",
          "height": 204
        },
        "id": "_v4LEOiMTimp",
        "outputId": "6b2a49a2-ee52-416e-da96-5dea6501f4a6"
      },
      "source": [
        "fish = pd.read_csv('datasets/fish.csv')\n",
        "fish.head()"
      ],
      "execution_count": 120,
      "outputs": [
        {
          "output_type": "execute_result",
          "data": {
            "text/html": [
              "<div>\n",
              "<style scoped>\n",
              "    .dataframe tbody tr th:only-of-type {\n",
              "        vertical-align: middle;\n",
              "    }\n",
              "\n",
              "    .dataframe tbody tr th {\n",
              "        vertical-align: top;\n",
              "    }\n",
              "\n",
              "    .dataframe thead th {\n",
              "        text-align: right;\n",
              "    }\n",
              "</style>\n",
              "<table border=\"1\" class=\"dataframe\">\n",
              "  <thead>\n",
              "    <tr style=\"text-align: right;\">\n",
              "      <th></th>\n",
              "      <th>Bream</th>\n",
              "      <th>242.0</th>\n",
              "      <th>23.2</th>\n",
              "      <th>25.4</th>\n",
              "      <th>30.0</th>\n",
              "      <th>38.4</th>\n",
              "      <th>13.4</th>\n",
              "    </tr>\n",
              "  </thead>\n",
              "  <tbody>\n",
              "    <tr>\n",
              "      <th>0</th>\n",
              "      <td>Bream</td>\n",
              "      <td>290.0</td>\n",
              "      <td>24.0</td>\n",
              "      <td>26.3</td>\n",
              "      <td>31.2</td>\n",
              "      <td>40.0</td>\n",
              "      <td>13.8</td>\n",
              "    </tr>\n",
              "    <tr>\n",
              "      <th>1</th>\n",
              "      <td>Bream</td>\n",
              "      <td>340.0</td>\n",
              "      <td>23.9</td>\n",
              "      <td>26.5</td>\n",
              "      <td>31.1</td>\n",
              "      <td>39.8</td>\n",
              "      <td>15.1</td>\n",
              "    </tr>\n",
              "    <tr>\n",
              "      <th>2</th>\n",
              "      <td>Bream</td>\n",
              "      <td>363.0</td>\n",
              "      <td>26.3</td>\n",
              "      <td>29.0</td>\n",
              "      <td>33.5</td>\n",
              "      <td>38.0</td>\n",
              "      <td>13.3</td>\n",
              "    </tr>\n",
              "    <tr>\n",
              "      <th>3</th>\n",
              "      <td>Bream</td>\n",
              "      <td>430.0</td>\n",
              "      <td>26.5</td>\n",
              "      <td>29.0</td>\n",
              "      <td>34.0</td>\n",
              "      <td>36.6</td>\n",
              "      <td>15.1</td>\n",
              "    </tr>\n",
              "    <tr>\n",
              "      <th>4</th>\n",
              "      <td>Bream</td>\n",
              "      <td>450.0</td>\n",
              "      <td>26.8</td>\n",
              "      <td>29.7</td>\n",
              "      <td>34.7</td>\n",
              "      <td>39.2</td>\n",
              "      <td>14.2</td>\n",
              "    </tr>\n",
              "  </tbody>\n",
              "</table>\n",
              "</div>"
            ],
            "text/plain": [
              "   Bream  242.0  23.2  25.4  30.0  38.4  13.4\n",
              "0  Bream  290.0  24.0  26.3  31.2  40.0  13.8\n",
              "1  Bream  340.0  23.9  26.5  31.1  39.8  15.1\n",
              "2  Bream  363.0  26.3  29.0  33.5  38.0  13.3\n",
              "3  Bream  430.0  26.5  29.0  34.0  36.6  15.1\n",
              "4  Bream  450.0  26.8  29.7  34.7  39.2  14.2"
            ]
          },
          "metadata": {},
          "execution_count": 120
        }
      ]
    },
    {
      "cell_type": "code",
      "metadata": {
        "id": "J-bT6VMsTqei"
      },
      "source": [
        "species = fish['Bream']\n",
        "samples = fish.iloc[:, 1:].values"
      ],
      "execution_count": 121,
      "outputs": []
    },
    {
      "cell_type": "code",
      "metadata": {
        "id": "vXCamsH2PIBl"
      },
      "source": [
        "# Perform the necessary imports\n",
        "from sklearn.pipeline import make_pipeline\n",
        "from sklearn.preprocessing import StandardScaler\n",
        "from sklearn.cluster import KMeans\n",
        "\n",
        "# Create scaler: scaler\n",
        "scaler = StandardScaler()\n",
        "\n",
        "# Create KMeans instance: kmeans\n",
        "kmeans = KMeans(n_clusters=4)\n",
        "\n",
        "# Create pipeline: pipeline\n",
        "pipeline = make_pipeline(scaler, kmeans)"
      ],
      "execution_count": 122,
      "outputs": []
    },
    {
      "cell_type": "code",
      "metadata": {
        "colab": {
          "base_uri": "https://localhost:8080/"
        },
        "id": "HkoJ0SxmPID-",
        "outputId": "a4642244-ff18-4fe8-d9ce-9a6dd4360e70"
      },
      "source": [
        "# Fit the pipeline to samples\n",
        "pipeline.fit(samples)\n",
        "\n",
        "# Calculate the cluster labels: labels\n",
        "labels = pipeline.predict(samples)\n",
        "\n",
        "# Create a DataFrame with labels and species as columns: df\n",
        "df = pd.DataFrame({'labels': labels, 'species': species})\n",
        "\n",
        "# Create crosstab: ct\n",
        "ct = pd.crosstab(df['labels'], df['species'])\n",
        "\n",
        "# Display ct\n",
        "print(ct)"
      ],
      "execution_count": 123,
      "outputs": [
        {
          "output_type": "stream",
          "name": "stdout",
          "text": [
            "species  Bream  Pike  Roach  Smelt\n",
            "labels                            \n",
            "0            0    17      0      0\n",
            "1            0     0     19      1\n",
            "2           33     0      1      0\n",
            "3            0     0      0     13\n"
          ]
        }
      ]
    },
    {
      "cell_type": "code",
      "metadata": {
        "colab": {
          "base_uri": "https://localhost:8080/",
          "height": 204
        },
        "id": "KnsKqFUePIG5",
        "outputId": "e7a65d05-b396-4ab6-c703-ef5a245f73df"
      },
      "source": [
        "prices = pd.read_csv('datasets/seeds.csv')\n",
        "prices.head()"
      ],
      "execution_count": 124,
      "outputs": [
        {
          "output_type": "execute_result",
          "data": {
            "text/html": [
              "<div>\n",
              "<style scoped>\n",
              "    .dataframe tbody tr th:only-of-type {\n",
              "        vertical-align: middle;\n",
              "    }\n",
              "\n",
              "    .dataframe tbody tr th {\n",
              "        vertical-align: top;\n",
              "    }\n",
              "\n",
              "    .dataframe thead th {\n",
              "        text-align: right;\n",
              "    }\n",
              "</style>\n",
              "<table border=\"1\" class=\"dataframe\">\n",
              "  <thead>\n",
              "    <tr style=\"text-align: right;\">\n",
              "      <th></th>\n",
              "      <th>15.26</th>\n",
              "      <th>14.84</th>\n",
              "      <th>0.871</th>\n",
              "      <th>5.763</th>\n",
              "      <th>3.312</th>\n",
              "      <th>2.221</th>\n",
              "      <th>5.22</th>\n",
              "      <th>1</th>\n",
              "    </tr>\n",
              "  </thead>\n",
              "  <tbody>\n",
              "    <tr>\n",
              "      <th>0</th>\n",
              "      <td>14.88</td>\n",
              "      <td>14.57</td>\n",
              "      <td>0.8811</td>\n",
              "      <td>5.554</td>\n",
              "      <td>3.333</td>\n",
              "      <td>1.018</td>\n",
              "      <td>4.956</td>\n",
              "      <td>1</td>\n",
              "    </tr>\n",
              "    <tr>\n",
              "      <th>1</th>\n",
              "      <td>14.29</td>\n",
              "      <td>14.09</td>\n",
              "      <td>0.9050</td>\n",
              "      <td>5.291</td>\n",
              "      <td>3.337</td>\n",
              "      <td>2.699</td>\n",
              "      <td>4.825</td>\n",
              "      <td>1</td>\n",
              "    </tr>\n",
              "    <tr>\n",
              "      <th>2</th>\n",
              "      <td>13.84</td>\n",
              "      <td>13.94</td>\n",
              "      <td>0.8955</td>\n",
              "      <td>5.324</td>\n",
              "      <td>3.379</td>\n",
              "      <td>2.259</td>\n",
              "      <td>4.805</td>\n",
              "      <td>1</td>\n",
              "    </tr>\n",
              "    <tr>\n",
              "      <th>3</th>\n",
              "      <td>16.14</td>\n",
              "      <td>14.99</td>\n",
              "      <td>0.9034</td>\n",
              "      <td>5.658</td>\n",
              "      <td>3.562</td>\n",
              "      <td>1.355</td>\n",
              "      <td>5.175</td>\n",
              "      <td>1</td>\n",
              "    </tr>\n",
              "    <tr>\n",
              "      <th>4</th>\n",
              "      <td>14.38</td>\n",
              "      <td>14.21</td>\n",
              "      <td>0.8951</td>\n",
              "      <td>5.386</td>\n",
              "      <td>3.312</td>\n",
              "      <td>2.462</td>\n",
              "      <td>4.956</td>\n",
              "      <td>1</td>\n",
              "    </tr>\n",
              "  </tbody>\n",
              "</table>\n",
              "</div>"
            ],
            "text/plain": [
              "   15.26  14.84   0.871  5.763  3.312  2.221   5.22  1\n",
              "0  14.88  14.57  0.8811  5.554  3.333  1.018  4.956  1\n",
              "1  14.29  14.09  0.9050  5.291  3.337  2.699  4.825  1\n",
              "2  13.84  13.94  0.8955  5.324  3.379  2.259  4.805  1\n",
              "3  16.14  14.99  0.9034  5.658  3.562  1.355  5.175  1\n",
              "4  14.38  14.21  0.8951  5.386  3.312  2.462  4.956  1"
            ]
          },
          "metadata": {},
          "execution_count": 124
        }
      ]
    },
    {
      "cell_type": "code",
      "metadata": {
        "id": "ylbB2aG5SfQU"
      },
      "source": [
        "samples = prices.iloc[:, :7].values\n",
        "varieties = prices.iloc[:, 7].values"
      ],
      "execution_count": 125,
      "outputs": []
    },
    {
      "cell_type": "code",
      "metadata": {
        "colab": {
          "base_uri": "https://localhost:8080/",
          "height": 259
        },
        "id": "5u9gutQ8SfTS",
        "outputId": "422e6733-2dd8-4fc2-9521-649eadeba320"
      },
      "source": [
        "# Perform the necessary imports\n",
        "from scipy.cluster.hierarchy import linkage, dendrogram\n",
        "import matplotlib.pyplot as plt\n",
        "\n",
        "# Calculate the linkage: mergings\n",
        "mergings = linkage(samples, method='complete')\n",
        "\n",
        "# Plot the dendrogram, using varieties as labels\n",
        "dendrogram(mergings,\n",
        "           labels=varieties,\n",
        "           leaf_rotation=90,\n",
        "           leaf_font_size=6,\n",
        ")\n",
        "plt.show()"
      ],
      "execution_count": 126,
      "outputs": [
        {
          "output_type": "display_data",
          "data": {
            "image/png": "[encoded data removed]",
            "text/plain": [
              "<Figure size 432x288 with 1 Axes>"
            ]
          },
          "metadata": {
            "needs_background": "light"
          }
        }
      ]
    },
    {
      "cell_type": "code",
      "metadata": {
        "colab": {
          "base_uri": "https://localhost:8080/",
          "height": 287
        },
        "id": "Zh9Wrd_LSfWT",
        "outputId": "3565bf23-55ab-42c2-de33-23743aef295d"
      },
      "source": [
        "price_movements = pd.read_csv('datasets/price_movements.csv')\n",
        "price_movements.head()"
      ],
      "execution_count": 127,
      "outputs": [
        {
          "output_type": "execute_result",
          "data": {
            "text/html": [
              "<div>\n",
              "<style scoped>\n",
              "    .dataframe tbody tr th:only-of-type {\n",
              "        vertical-align: middle;\n",
              "    }\n",
              "\n",
              "    .dataframe tbody tr th {\n",
              "        vertical-align: top;\n",
              "    }\n",
              "\n",
              "    .dataframe thead th {\n",
              "        text-align: right;\n",
              "    }\n",
              "</style>\n",
              "<table border=\"1\" class=\"dataframe\">\n",
              "  <thead>\n",
              "    <tr style=\"text-align: right;\">\n",
              "      <th></th>\n",
              "      <th>Unnamed: 0</th>\n",
              "      <th>2010-01-04</th>\n",
              "      <th>2010-01-05</th>\n",
              "      <th>2010-01-06</th>\n",
              "      <th>2010-01-07</th>\n",
              "      <th>2010-01-08</th>\n",
              "      <th>2010-01-11</th>\n",
              "      <th>2010-01-12</th>\n",
              "      <th>2010-01-13</th>\n",
              "      <th>2010-01-14</th>\n",
              "      <th>2010-01-15</th>\n",
              "      <th>2010-01-19</th>\n",
              "      <th>2010-01-20</th>\n",
              "      <th>2010-01-21</th>\n",
              "      <th>2010-01-22</th>\n",
              "      <th>2010-01-25</th>\n",
              "      <th>2010-01-26</th>\n",
              "      <th>2010-01-27</th>\n",
              "      <th>2010-01-28</th>\n",
              "      <th>2010-01-29</th>\n",
              "      <th>2010-02-01</th>\n",
              "      <th>2010-02-02</th>\n",
              "      <th>2010-02-03</th>\n",
              "      <th>2010-02-04</th>\n",
              "      <th>2010-02-05</th>\n",
              "      <th>2010-02-08</th>\n",
              "      <th>2010-02-09</th>\n",
              "      <th>2010-02-10</th>\n",
              "      <th>2010-02-11</th>\n",
              "      <th>2010-02-12</th>\n",
              "      <th>2010-02-16</th>\n",
              "      <th>2010-02-17</th>\n",
              "      <th>2010-02-18</th>\n",
              "      <th>2010-02-19</th>\n",
              "      <th>2010-02-22</th>\n",
              "      <th>2010-02-23</th>\n",
              "      <th>2010-02-24</th>\n",
              "      <th>2010-02-25</th>\n",
              "      <th>2010-02-26</th>\n",
              "      <th>2010-03-01</th>\n",
              "      <th>...</th>\n",
              "      <th>2013-09-04</th>\n",
              "      <th>2013-09-05</th>\n",
              "      <th>2013-09-06</th>\n",
              "      <th>2013-09-09</th>\n",
              "      <th>2013-09-10</th>\n",
              "      <th>2013-09-11</th>\n",
              "      <th>2013-09-12</th>\n",
              "      <th>2013-09-13</th>\n",
              "      <th>2013-09-16</th>\n",
              "      <th>2013-09-17</th>\n",
              "      <th>2013-09-18</th>\n",
              "      <th>2013-09-19</th>\n",
              "      <th>2013-09-20</th>\n",
              "      <th>2013-09-23</th>\n",
              "      <th>2013-09-24</th>\n",
              "      <th>2013-09-25</th>\n",
              "      <th>2013-09-26</th>\n",
              "      <th>2013-09-27</th>\n",
              "      <th>2013-09-30</th>\n",
              "      <th>2013-10-01</th>\n",
              "      <th>2013-10-02</th>\n",
              "      <th>2013-10-03</th>\n",
              "      <th>2013-10-04</th>\n",
              "      <th>2013-10-07</th>\n",
              "      <th>2013-10-08</th>\n",
              "      <th>2013-10-09</th>\n",
              "      <th>2013-10-10</th>\n",
              "      <th>2013-10-11</th>\n",
              "      <th>2013-10-14</th>\n",
              "      <th>2013-10-15</th>\n",
              "      <th>2013-10-16</th>\n",
              "      <th>2013-10-17</th>\n",
              "      <th>2013-10-18</th>\n",
              "      <th>2013-10-21</th>\n",
              "      <th>2013-10-22</th>\n",
              "      <th>2013-10-23</th>\n",
              "      <th>2013-10-24</th>\n",
              "      <th>2013-10-25</th>\n",
              "      <th>2013-10-28</th>\n",
              "      <th>2013-10-29</th>\n",
              "    </tr>\n",
              "  </thead>\n",
              "  <tbody>\n",
              "    <tr>\n",
              "      <th>0</th>\n",
              "      <td>Apple</td>\n",
              "      <td>0.580000</td>\n",
              "      <td>-0.220005</td>\n",
              "      <td>-3.409998</td>\n",
              "      <td>-1.170000</td>\n",
              "      <td>1.680011</td>\n",
              "      <td>-2.689994</td>\n",
              "      <td>-1.469994</td>\n",
              "      <td>2.779997</td>\n",
              "      <td>-0.680003</td>\n",
              "      <td>-4.999995</td>\n",
              "      <td>6.709993</td>\n",
              "      <td>-3.180006</td>\n",
              "      <td>-4.009998</td>\n",
              "      <td>-9.030006</td>\n",
              "      <td>0.560000</td>\n",
              "      <td>-0.010000</td>\n",
              "      <td>1.030010</td>\n",
              "      <td>-5.640009</td>\n",
              "      <td>-9.019993</td>\n",
              "      <td>2.360001</td>\n",
              "      <td>-0.050001</td>\n",
              "      <td>4.060000</td>\n",
              "      <td>-4.680000</td>\n",
              "      <td>2.829998</td>\n",
              "      <td>-1.570009</td>\n",
              "      <td>-0.229992</td>\n",
              "      <td>-0.769990</td>\n",
              "      <td>3.789993</td>\n",
              "      <td>2.269998</td>\n",
              "      <td>1.459994</td>\n",
              "      <td>-1.639998</td>\n",
              "      <td>1.300003</td>\n",
              "      <td>-0.190005</td>\n",
              "      <td>-1.920004</td>\n",
              "      <td>-2.940000</td>\n",
              "      <td>2.430002</td>\n",
              "      <td>4.619999</td>\n",
              "      <td>2.239998</td>\n",
              "      <td>3.240008</td>\n",
              "      <td>...</td>\n",
              "      <td>-0.869980</td>\n",
              "      <td>-4.980034</td>\n",
              "      <td>-0.219979</td>\n",
              "      <td>1.169960</td>\n",
              "      <td>-11.559998</td>\n",
              "      <td>0.699989</td>\n",
              "      <td>4.190003</td>\n",
              "      <td>-4.439995</td>\n",
              "      <td>-10.879982</td>\n",
              "      <td>7.360008</td>\n",
              "      <td>1.500008</td>\n",
              "      <td>1.599983</td>\n",
              "      <td>-10.589988</td>\n",
              "      <td>-5.459991</td>\n",
              "      <td>-5.779999</td>\n",
              "      <td>-7.669976</td>\n",
              "      <td>0.219979</td>\n",
              "      <td>-1.029983</td>\n",
              "      <td>-0.500038</td>\n",
              "      <td>9.510018</td>\n",
              "      <td>3.929970</td>\n",
              "      <td>-7.100029</td>\n",
              "      <td>-0.829979</td>\n",
              "      <td>1.190040</td>\n",
              "      <td>-9.000045</td>\n",
              "      <td>1.950005</td>\n",
              "      <td>-1.679985</td>\n",
              "      <td>5.820000</td>\n",
              "      <td>6.209969</td>\n",
              "      <td>1.169960</td>\n",
              "      <td>0.320008</td>\n",
              "      <td>4.519997</td>\n",
              "      <td>2.899987</td>\n",
              "      <td>9.590019</td>\n",
              "      <td>-6.540016</td>\n",
              "      <td>5.959976</td>\n",
              "      <td>6.910011</td>\n",
              "      <td>-5.359962</td>\n",
              "      <td>0.840019</td>\n",
              "      <td>-19.589981</td>\n",
              "    </tr>\n",
              "    <tr>\n",
              "      <th>1</th>\n",
              "      <td>AIG</td>\n",
              "      <td>-0.640002</td>\n",
              "      <td>-0.650000</td>\n",
              "      <td>-0.210001</td>\n",
              "      <td>-0.420000</td>\n",
              "      <td>0.710001</td>\n",
              "      <td>-0.200001</td>\n",
              "      <td>-1.130001</td>\n",
              "      <td>0.069999</td>\n",
              "      <td>-0.119999</td>\n",
              "      <td>-0.500000</td>\n",
              "      <td>0.200001</td>\n",
              "      <td>-0.100000</td>\n",
              "      <td>-0.460001</td>\n",
              "      <td>-1.190001</td>\n",
              "      <td>-0.650000</td>\n",
              "      <td>-1.300001</td>\n",
              "      <td>0.430000</td>\n",
              "      <td>-1.690000</td>\n",
              "      <td>-0.300001</td>\n",
              "      <td>-0.420000</td>\n",
              "      <td>-0.020001</td>\n",
              "      <td>-0.099998</td>\n",
              "      <td>-0.940001</td>\n",
              "      <td>-0.090000</td>\n",
              "      <td>-0.250000</td>\n",
              "      <td>0.760000</td>\n",
              "      <td>3.710001</td>\n",
              "      <td>-0.200001</td>\n",
              "      <td>1.000000</td>\n",
              "      <td>0.000000</td>\n",
              "      <td>-0.630001</td>\n",
              "      <td>0.299999</td>\n",
              "      <td>-0.010000</td>\n",
              "      <td>1.540001</td>\n",
              "      <td>-1.459999</td>\n",
              "      <td>0.830000</td>\n",
              "      <td>0.069999</td>\n",
              "      <td>-0.900000</td>\n",
              "      <td>-2.179998</td>\n",
              "      <td>...</td>\n",
              "      <td>0.680000</td>\n",
              "      <td>0.229999</td>\n",
              "      <td>-0.720002</td>\n",
              "      <td>0.829998</td>\n",
              "      <td>-0.130001</td>\n",
              "      <td>0.340000</td>\n",
              "      <td>-0.620003</td>\n",
              "      <td>0.320000</td>\n",
              "      <td>-0.470001</td>\n",
              "      <td>0.790001</td>\n",
              "      <td>0.279999</td>\n",
              "      <td>-0.930000</td>\n",
              "      <td>-0.020000</td>\n",
              "      <td>-0.439998</td>\n",
              "      <td>0.100003</td>\n",
              "      <td>0.190003</td>\n",
              "      <td>-0.239998</td>\n",
              "      <td>-0.029998</td>\n",
              "      <td>0.020000</td>\n",
              "      <td>0.579998</td>\n",
              "      <td>0.350002</td>\n",
              "      <td>-0.210003</td>\n",
              "      <td>0.660000</td>\n",
              "      <td>-0.310001</td>\n",
              "      <td>-1.099998</td>\n",
              "      <td>0.050000</td>\n",
              "      <td>1.290001</td>\n",
              "      <td>0.330002</td>\n",
              "      <td>0.599999</td>\n",
              "      <td>-0.160000</td>\n",
              "      <td>0.919998</td>\n",
              "      <td>0.709999</td>\n",
              "      <td>0.119999</td>\n",
              "      <td>-0.480000</td>\n",
              "      <td>0.010002</td>\n",
              "      <td>-0.279998</td>\n",
              "      <td>-0.190003</td>\n",
              "      <td>-0.040001</td>\n",
              "      <td>-0.400002</td>\n",
              "      <td>0.660000</td>\n",
              "    </tr>\n",
              "    <tr>\n",
              "      <th>2</th>\n",
              "      <td>Amazon</td>\n",
              "      <td>-2.350006</td>\n",
              "      <td>1.260009</td>\n",
              "      <td>-2.350006</td>\n",
              "      <td>-2.009995</td>\n",
              "      <td>2.960006</td>\n",
              "      <td>-2.309997</td>\n",
              "      <td>-1.640007</td>\n",
              "      <td>1.209999</td>\n",
              "      <td>-1.790001</td>\n",
              "      <td>-2.039994</td>\n",
              "      <td>1.300003</td>\n",
              "      <td>-1.349998</td>\n",
              "      <td>-0.639999</td>\n",
              "      <td>-4.169998</td>\n",
              "      <td>-1.790000</td>\n",
              "      <td>-1.079995</td>\n",
              "      <td>1.720001</td>\n",
              "      <td>1.599999</td>\n",
              "      <td>-4.360000</td>\n",
              "      <td>-4.309997</td>\n",
              "      <td>-0.669998</td>\n",
              "      <td>1.979995</td>\n",
              "      <td>-2.699997</td>\n",
              "      <td>1.510002</td>\n",
              "      <td>-2.549995</td>\n",
              "      <td>-0.169998</td>\n",
              "      <td>-0.639999</td>\n",
              "      <td>2.879997</td>\n",
              "      <td>0.670006</td>\n",
              "      <td>-2.529999</td>\n",
              "      <td>-0.760002</td>\n",
              "      <td>2.240006</td>\n",
              "      <td>-0.390007</td>\n",
              "      <td>0.639999</td>\n",
              "      <td>-0.770004</td>\n",
              "      <td>1.760002</td>\n",
              "      <td>0.029999</td>\n",
              "      <td>0.520005</td>\n",
              "      <td>5.840004</td>\n",
              "      <td>...</td>\n",
              "      <td>5.310028</td>\n",
              "      <td>0.470001</td>\n",
              "      <td>0.529998</td>\n",
              "      <td>2.489990</td>\n",
              "      <td>-0.190003</td>\n",
              "      <td>0.730011</td>\n",
              "      <td>-0.530030</td>\n",
              "      <td>-2.220002</td>\n",
              "      <td>-3.760009</td>\n",
              "      <td>6.540008</td>\n",
              "      <td>7.970001</td>\n",
              "      <td>-1.709991</td>\n",
              "      <td>3.799987</td>\n",
              "      <td>-2.520020</td>\n",
              "      <td>1.700012</td>\n",
              "      <td>-1.880005</td>\n",
              "      <td>4.220001</td>\n",
              "      <td>-0.910003</td>\n",
              "      <td>-0.769989</td>\n",
              "      <td>6.730011</td>\n",
              "      <td>2.470001</td>\n",
              "      <td>-5.630005</td>\n",
              "      <td>3.910004</td>\n",
              "      <td>-5.209991</td>\n",
              "      <td>-8.269989</td>\n",
              "      <td>-5.190002</td>\n",
              "      <td>0.540008</td>\n",
              "      <td>6.120026</td>\n",
              "      <td>1.480011</td>\n",
              "      <td>-3.470001</td>\n",
              "      <td>2.109985</td>\n",
              "      <td>3.699982</td>\n",
              "      <td>9.570008</td>\n",
              "      <td>-3.450013</td>\n",
              "      <td>4.820008</td>\n",
              "      <td>-4.079986</td>\n",
              "      <td>2.579986</td>\n",
              "      <td>4.790009</td>\n",
              "      <td>-1.760009</td>\n",
              "      <td>3.740021</td>\n",
              "    </tr>\n",
              "    <tr>\n",
              "      <th>3</th>\n",
              "      <td>American express</td>\n",
              "      <td>0.109997</td>\n",
              "      <td>0.000000</td>\n",
              "      <td>0.260002</td>\n",
              "      <td>0.720002</td>\n",
              "      <td>0.190003</td>\n",
              "      <td>-0.270001</td>\n",
              "      <td>0.750000</td>\n",
              "      <td>0.300004</td>\n",
              "      <td>0.639999</td>\n",
              "      <td>-0.130001</td>\n",
              "      <td>0.719997</td>\n",
              "      <td>0.050000</td>\n",
              "      <td>-0.830002</td>\n",
              "      <td>-2.770001</td>\n",
              "      <td>-1.309997</td>\n",
              "      <td>0.559997</td>\n",
              "      <td>0.709999</td>\n",
              "      <td>-1.239998</td>\n",
              "      <td>0.060002</td>\n",
              "      <td>0.369999</td>\n",
              "      <td>0.340000</td>\n",
              "      <td>-0.579998</td>\n",
              "      <td>-0.500000</td>\n",
              "      <td>0.189998</td>\n",
              "      <td>-0.969997</td>\n",
              "      <td>0.270001</td>\n",
              "      <td>0.169998</td>\n",
              "      <td>0.480000</td>\n",
              "      <td>0.629997</td>\n",
              "      <td>0.809998</td>\n",
              "      <td>-0.480000</td>\n",
              "      <td>0.080002</td>\n",
              "      <td>0.170002</td>\n",
              "      <td>-0.169998</td>\n",
              "      <td>-0.810002</td>\n",
              "      <td>0.310002</td>\n",
              "      <td>0.370003</td>\n",
              "      <td>0.039997</td>\n",
              "      <td>-0.070000</td>\n",
              "      <td>...</td>\n",
              "      <td>0.620002</td>\n",
              "      <td>0.639999</td>\n",
              "      <td>-0.570000</td>\n",
              "      <td>0.070008</td>\n",
              "      <td>0.379997</td>\n",
              "      <td>0.480003</td>\n",
              "      <td>0.000000</td>\n",
              "      <td>-0.279999</td>\n",
              "      <td>-0.739998</td>\n",
              "      <td>1.320000</td>\n",
              "      <td>0.650001</td>\n",
              "      <td>-0.239998</td>\n",
              "      <td>-0.300003</td>\n",
              "      <td>-0.849999</td>\n",
              "      <td>-0.319999</td>\n",
              "      <td>-0.139999</td>\n",
              "      <td>0.320000</td>\n",
              "      <td>-0.169999</td>\n",
              "      <td>0.549996</td>\n",
              "      <td>0.290001</td>\n",
              "      <td>-0.549995</td>\n",
              "      <td>-0.090004</td>\n",
              "      <td>0.430001</td>\n",
              "      <td>-0.559998</td>\n",
              "      <td>-0.809998</td>\n",
              "      <td>-0.159996</td>\n",
              "      <td>1.470002</td>\n",
              "      <td>0.730004</td>\n",
              "      <td>0.739998</td>\n",
              "      <td>-0.379997</td>\n",
              "      <td>0.680001</td>\n",
              "      <td>2.290001</td>\n",
              "      <td>0.409996</td>\n",
              "      <td>-0.069999</td>\n",
              "      <td>0.100006</td>\n",
              "      <td>0.069999</td>\n",
              "      <td>0.130005</td>\n",
              "      <td>1.849999</td>\n",
              "      <td>0.040001</td>\n",
              "      <td>0.540001</td>\n",
              "    </tr>\n",
              "    <tr>\n",
              "      <th>4</th>\n",
              "      <td>Boeing</td>\n",
              "      <td>0.459999</td>\n",
              "      <td>1.770000</td>\n",
              "      <td>1.549999</td>\n",
              "      <td>2.690003</td>\n",
              "      <td>0.059997</td>\n",
              "      <td>-1.080002</td>\n",
              "      <td>0.360000</td>\n",
              "      <td>0.549999</td>\n",
              "      <td>0.530002</td>\n",
              "      <td>-0.709999</td>\n",
              "      <td>0.050004</td>\n",
              "      <td>-0.130001</td>\n",
              "      <td>-1.099998</td>\n",
              "      <td>-0.849999</td>\n",
              "      <td>-0.569999</td>\n",
              "      <td>0.169998</td>\n",
              "      <td>3.090000</td>\n",
              "      <td>0.409999</td>\n",
              "      <td>-2.200001</td>\n",
              "      <td>0.959999</td>\n",
              "      <td>0.649998</td>\n",
              "      <td>-0.060001</td>\n",
              "      <td>-1.630001</td>\n",
              "      <td>-0.809997</td>\n",
              "      <td>-0.440003</td>\n",
              "      <td>1.120003</td>\n",
              "      <td>-0.169998</td>\n",
              "      <td>0.840000</td>\n",
              "      <td>-0.219997</td>\n",
              "      <td>0.840000</td>\n",
              "      <td>0.430001</td>\n",
              "      <td>1.110000</td>\n",
              "      <td>0.939998</td>\n",
              "      <td>0.389999</td>\n",
              "      <td>-1.040001</td>\n",
              "      <td>0.480000</td>\n",
              "      <td>0.149998</td>\n",
              "      <td>0.070000</td>\n",
              "      <td>0.950001</td>\n",
              "      <td>...</td>\n",
              "      <td>1.320000</td>\n",
              "      <td>0.489998</td>\n",
              "      <td>-0.930000</td>\n",
              "      <td>0.610000</td>\n",
              "      <td>0.529999</td>\n",
              "      <td>0.980003</td>\n",
              "      <td>0.610001</td>\n",
              "      <td>1.400002</td>\n",
              "      <td>1.939995</td>\n",
              "      <td>1.330002</td>\n",
              "      <td>1.120003</td>\n",
              "      <td>-0.180000</td>\n",
              "      <td>-2.520005</td>\n",
              "      <td>0.360000</td>\n",
              "      <td>1.809998</td>\n",
              "      <td>-0.809998</td>\n",
              "      <td>0.669998</td>\n",
              "      <td>0.229996</td>\n",
              "      <td>0.150002</td>\n",
              "      <td>-0.220001</td>\n",
              "      <td>0.459999</td>\n",
              "      <td>-2.110000</td>\n",
              "      <td>1.930000</td>\n",
              "      <td>1.180000</td>\n",
              "      <td>-1.229996</td>\n",
              "      <td>-0.930001</td>\n",
              "      <td>2.800004</td>\n",
              "      <td>-0.619995</td>\n",
              "      <td>2.040001</td>\n",
              "      <td>-1.239998</td>\n",
              "      <td>1.559997</td>\n",
              "      <td>2.480003</td>\n",
              "      <td>0.019997</td>\n",
              "      <td>-1.220001</td>\n",
              "      <td>0.480003</td>\n",
              "      <td>3.020004</td>\n",
              "      <td>-0.029999</td>\n",
              "      <td>1.940002</td>\n",
              "      <td>1.130005</td>\n",
              "      <td>0.309998</td>\n",
              "    </tr>\n",
              "  </tbody>\n",
              "</table>\n",
              "<p>5 rows × 964 columns</p>\n",
              "</div>"
            ],
            "text/plain": [
              "         Unnamed: 0  2010-01-04  2010-01-05  ...  2013-10-25  2013-10-28  2013-10-29\n",
              "0             Apple    0.580000   -0.220005  ...   -5.359962    0.840019  -19.589981\n",
              "1               AIG   -0.640002   -0.650000  ...   -0.040001   -0.400002    0.660000\n",
              "2            Amazon   -2.350006    1.260009  ...    4.790009   -1.760009    3.740021\n",
              "3  American express    0.109997    0.000000  ...    1.849999    0.040001    0.540001\n",
              "4            Boeing    0.459999    1.770000  ...    1.940002    1.130005    0.309998\n",
              "\n",
              "[5 rows x 964 columns]"
            ]
          },
          "metadata": {},
          "execution_count": 127
        }
      ]
    },
    {
      "cell_type": "code",
      "metadata": {
        "id": "yReiP_B9SfZE"
      },
      "source": [
        "movements = price_movements.iloc[:, 1:].values\n",
        "companies = price_movements.iloc[:, 1].values"
      ],
      "execution_count": 128,
      "outputs": []
    },
    {
      "cell_type": "code",
      "metadata": {
        "colab": {
          "base_uri": "https://localhost:8080/",
          "height": 331
        },
        "id": "Zy2j6272gww3",
        "outputId": "3edf544c-be7e-4a2e-9f84-274db22b58a7"
      },
      "source": [
        "# Calculate the linkage: mergings\n",
        "mergings = linkage(movements, method='complete')\n",
        "\n",
        "# Plot the dendrogram\n",
        "dendrogram(mergings, labels=companies, leaf_rotation=90, leaf_font_size=6)\n",
        "plt.show()\n"
      ],
      "execution_count": 129,
      "outputs": [
        {
          "output_type": "display_data",
          "data": {
            "image/png": "[encoded data removed]",
            "text/plain": [
              "<Figure size 432x288 with 1 Axes>"
            ]
          },
          "metadata": {
            "needs_background": "light"
          }
        }
      ]
    },
    {
      "cell_type": "code",
      "metadata": {
        "colab": {
          "base_uri": "https://localhost:8080/",
          "height": 331
        },
        "id": "wLtyhuPWSfbi",
        "outputId": "4dd8078e-3102-45f8-a66a-887e5090ff0d"
      },
      "source": [
        "# Import normalize\n",
        "from sklearn.preprocessing import normalize\n",
        "\n",
        "# Normalize the movements: normalized_movements\n",
        "normalized_movements = normalize(movements)\n",
        "\n",
        "# Calculate the linkage: mergings\n",
        "mergings = linkage(normalized_movements, method='complete')\n",
        "\n",
        "# Plot the dendrogram\n",
        "dendrogram(mergings, labels=companies, leaf_rotation=90, leaf_font_size=6)\n",
        "plt.show()\n"
      ],
      "execution_count": 130,
      "outputs": [
        {
          "output_type": "display_data",
          "data": {
            "image/png": "[encoded data removed]",
            "text/plain": [
              "<Figure size 432x288 with 1 Axes>"
            ]
          },
          "metadata": {
            "needs_background": "light"
          }
        }
      ]
    },
    {
      "cell_type": "code",
      "metadata": {
        "colab": {
          "base_uri": "https://localhost:8080/",
          "height": 238
        },
        "id": "uJ5FKLmTSfdp",
        "outputId": "a1376254-3cfc-4282-fe90-2501a47b58ea"
      },
      "source": [
        "eurovision = pd.read_csv('datasets/eurovision.csv')\n",
        "eurovision.head()"
      ],
      "execution_count": 131,
      "outputs": [
        {
          "output_type": "execute_result",
          "data": {
            "text/html": [
              "<div>\n",
              "<style scoped>\n",
              "    .dataframe tbody tr th:only-of-type {\n",
              "        vertical-align: middle;\n",
              "    }\n",
              "\n",
              "    .dataframe tbody tr th {\n",
              "        vertical-align: top;\n",
              "    }\n",
              "\n",
              "    .dataframe thead th {\n",
              "        text-align: right;\n",
              "    }\n",
              "</style>\n",
              "<table border=\"1\" class=\"dataframe\">\n",
              "  <thead>\n",
              "    <tr style=\"text-align: right;\">\n",
              "      <th></th>\n",
              "      <th>From country</th>\n",
              "      <th>To country</th>\n",
              "      <th>Jury A</th>\n",
              "      <th>Jury B</th>\n",
              "      <th>Jury C</th>\n",
              "      <th>Jury D</th>\n",
              "      <th>Jury E</th>\n",
              "      <th>Jury Rank</th>\n",
              "      <th>Televote Rank</th>\n",
              "      <th>Jury Points</th>\n",
              "      <th>Televote Points</th>\n",
              "    </tr>\n",
              "  </thead>\n",
              "  <tbody>\n",
              "    <tr>\n",
              "      <th>0</th>\n",
              "      <td>Albania</td>\n",
              "      <td>Belgium</td>\n",
              "      <td>20</td>\n",
              "      <td>16</td>\n",
              "      <td>24</td>\n",
              "      <td>22</td>\n",
              "      <td>24</td>\n",
              "      <td>25</td>\n",
              "      <td>14</td>\n",
              "      <td>NaN</td>\n",
              "      <td>NaN</td>\n",
              "    </tr>\n",
              "    <tr>\n",
              "      <th>1</th>\n",
              "      <td>Albania</td>\n",
              "      <td>Czech Republic</td>\n",
              "      <td>21</td>\n",
              "      <td>15</td>\n",
              "      <td>25</td>\n",
              "      <td>23</td>\n",
              "      <td>16</td>\n",
              "      <td>22</td>\n",
              "      <td>22</td>\n",
              "      <td>NaN</td>\n",
              "      <td>NaN</td>\n",
              "    </tr>\n",
              "    <tr>\n",
              "      <th>2</th>\n",
              "      <td>Albania</td>\n",
              "      <td>The Netherlands</td>\n",
              "      <td>22</td>\n",
              "      <td>14</td>\n",
              "      <td>23</td>\n",
              "      <td>24</td>\n",
              "      <td>21</td>\n",
              "      <td>24</td>\n",
              "      <td>24</td>\n",
              "      <td>NaN</td>\n",
              "      <td>NaN</td>\n",
              "    </tr>\n",
              "    <tr>\n",
              "      <th>3</th>\n",
              "      <td>Albania</td>\n",
              "      <td>Azerbaijan</td>\n",
              "      <td>19</td>\n",
              "      <td>12</td>\n",
              "      <td>11</td>\n",
              "      <td>21</td>\n",
              "      <td>11</td>\n",
              "      <td>13</td>\n",
              "      <td>19</td>\n",
              "      <td>NaN</td>\n",
              "      <td>NaN</td>\n",
              "    </tr>\n",
              "    <tr>\n",
              "      <th>4</th>\n",
              "      <td>Albania</td>\n",
              "      <td>Hungary</td>\n",
              "      <td>8</td>\n",
              "      <td>13</td>\n",
              "      <td>9</td>\n",
              "      <td>14</td>\n",
              "      <td>9</td>\n",
              "      <td>10</td>\n",
              "      <td>10</td>\n",
              "      <td>1.0</td>\n",
              "      <td>1.0</td>\n",
              "    </tr>\n",
              "  </tbody>\n",
              "</table>\n",
              "</div>"
            ],
            "text/plain": [
              "  From country       To country  ...  Jury Points  Televote Points\n",
              "0      Albania          Belgium  ...          NaN              NaN\n",
              "1      Albania   Czech Republic  ...          NaN              NaN\n",
              "2      Albania  The Netherlands  ...          NaN              NaN\n",
              "3      Albania       Azerbaijan  ...          NaN              NaN\n",
              "4      Albania          Hungary  ...          1.0              1.0\n",
              "\n",
              "[5 rows x 11 columns]"
            ]
          },
          "metadata": {},
          "execution_count": 131
        }
      ]
    },
    {
      "cell_type": "code",
      "metadata": {
        "id": "rO0_LZltSff-"
      },
      "source": [
        "samples = eurovision.iloc[:, 2:9].values\n",
        "country_names = eurovision.iloc[:, 1].values"
      ],
      "execution_count": 132,
      "outputs": []
    },
    {
      "cell_type": "code",
      "metadata": {
        "colab": {
          "base_uri": "https://localhost:8080/",
          "height": 305
        },
        "id": "XrfI1-QdSfh9",
        "outputId": "ba96f386-af9e-4a7a-ce2a-cfae7351556f"
      },
      "source": [
        "# Perform the necessary imports\n",
        "import matplotlib.pyplot as plt\n",
        "from scipy.cluster.hierarchy import linkage, dendrogram\n",
        "\n",
        "# Calculate the linkage: mergings\n",
        "mergings = linkage(samples, method='complete')\n",
        "\n",
        "# Plot the dendrogram\n",
        "dendrogram(mergings, labels=country_names, leaf_rotation=90, leaf_font_size=6)\n",
        "plt.show()\n"
      ],
      "execution_count": 133,
      "outputs": [
        {
          "output_type": "display_data",
          "data": {
            "image/png": "[encoded data removed]",
            "text/plain": [
              "<Figure size 432x288 with 1 Axes>"
            ]
          },
          "metadata": {
            "needs_background": "light"
          }
        }
      ]
    },
    {
      "cell_type": "code",
      "metadata": {
        "colab": {
          "base_uri": "https://localhost:8080/"
        },
        "id": "B7bdb9T7SfkA",
        "outputId": "ac8bfd3d-9c88-421e-acdb-2ecf2f469961"
      },
      "source": [
        "# Perform the necessary imports\n",
        "import pandas as pd\n",
        "from scipy.cluster.hierarchy import fcluster\n",
        "\n",
        "# Use fcluster to extract labels: labels\n",
        "labels = fcluster(mergings, 6, criterion='distance')\n",
        "\n",
        "# Create a DataFrame with labels and varieties as columns: df\n",
        "df = pd.DataFrame({'labels': labels, 'country_names': country_names})\n",
        "\n",
        "# Create crosstab: ct\n",
        "ct = pd.crosstab(df['labels'], df['country_names'])\n",
        "\n",
        "# Display ct\n",
        "print(ct)\n"
      ],
      "execution_count": 134,
      "outputs": [
        {
          "output_type": "stream",
          "name": "stdout",
          "text": [
            "country_names  Armenia  Australia  ...  Ukraine  United Kingdom\n",
            "labels                             ...                         \n",
            "1                    1          0  ...        0               0\n",
            "2                    0          0  ...        0               0\n",
            "3                    1          0  ...        0               0\n",
            "4                    0          0  ...        0               0\n",
            "5                    0          0  ...        0               0\n",
            "...                ...        ...  ...      ...             ...\n",
            "710                  0          0  ...        0               0\n",
            "711                  0          0  ...        0               0\n",
            "712                  0          0  ...        0               0\n",
            "713                  0          1  ...        0               0\n",
            "714                  0          0  ...        0               0\n",
            "\n",
            "[714 rows x 26 columns]\n"
          ]
        }
      ]
    },
    {
      "cell_type": "code",
      "metadata": {
        "id": "BKbfyvnxSfl_"
      },
      "source": [
        "seeds = pd.read_csv('datasets/seeds.csv')"
      ],
      "execution_count": 135,
      "outputs": []
    },
    {
      "cell_type": "code",
      "metadata": {
        "id": "6JGLwBZTSfom"
      },
      "source": [
        "samples = seeds.iloc[:,:7].values\n",
        "variety_numbers = seeds.iloc[:,7].values"
      ],
      "execution_count": 136,
      "outputs": []
    },
    {
      "cell_type": "code",
      "metadata": {
        "colab": {
          "base_uri": "https://localhost:8080/",
          "height": 265
        },
        "id": "rKj4H3bxSfri",
        "outputId": "bfc9ac3e-2554-41f0-cb21-bffbc1013394"
      },
      "source": [
        "# Import TSNE\n",
        "from sklearn.manifold import TSNE\n",
        "\n",
        "# Create a TSNE instance: model\n",
        "model = TSNE(learning_rate=200)\n",
        "\n",
        "# Apply fit_transform to samples: tsne_features\n",
        "tsne_features = model.fit_transform(samples)\n",
        "\n",
        "# Select the 0th feature: xs\n",
        "xs = tsne_features[:,0]\n",
        "\n",
        "# Select the 1st feature: ys\n",
        "ys = tsne_features[:,1]\n",
        "\n",
        "# Scatter plot, coloring by variety_numbers\n",
        "plt.scatter(xs, ys, c=variety_numbers)\n",
        "plt.show()\n"
      ],
      "execution_count": 137,
      "outputs": [
        {
          "output_type": "display_data",
          "data": {
            "image/png": "[encoded data removed]",
            "text/plain": [
              "<Figure size 432x288 with 1 Axes>"
            ]
          },
          "metadata": {
            "needs_background": "light"
          }
        }
      ]
    },
    {
      "cell_type": "code",
      "metadata": {
        "colab": {
          "base_uri": "https://localhost:8080/",
          "height": 265
        },
        "id": "kDWhWBhZSftt",
        "outputId": "57b7e994-ce33-4cbb-d927-0c722b8fd4fd"
      },
      "source": [
        "# Import TSNE\n",
        "from sklearn.manifold import TSNE\n",
        "# Create a TSNE instance: model\n",
        "model = TSNE(learning_rate=50)\n",
        "\n",
        "# Apply fit_transform to normalized_movements: tsne_features\n",
        "tsne_features = model.fit_transform(normalized_movements)\n",
        "\n",
        "# Select the 0th feature: xs\n",
        "xs = tsne_features[:,0]\n",
        "\n",
        "# Select the 1th feature: ys\n",
        "ys = tsne_features[:,1]\n",
        "\n",
        "# Scatter plot\n",
        "plt.scatter(xs, ys, alpha=0.5)\n",
        "\n",
        "# Annotate the points\n",
        "for x, y, company in zip(xs, ys, companies):\n",
        "    plt.annotate(company, (x, y), fontsize=5, alpha=0.75)\n",
        "plt.show()\n"
      ],
      "execution_count": 138,
      "outputs": [
        {
          "output_type": "display_data",
          "data": {
            "image/png": "[encoded data removed]",
            "text/plain": [
              "<Figure size 432x288 with 1 Axes>"
            ]
          },
          "metadata": {
            "needs_background": "light"
          }
        }
      ]
    },
    {
      "cell_type": "code",
      "metadata": {
        "id": "y4u7Q-BISfv9"
      },
      "source": [
        "grain_csv = pd.read_csv('datasets/seeds-width-vs-length.csv')\n",
        "grains = grain_csv.values"
      ],
      "execution_count": 139,
      "outputs": []
    },
    {
      "cell_type": "code",
      "metadata": {
        "colab": {
          "base_uri": "https://localhost:8080/",
          "height": 285
        },
        "id": "OANX9nL9Sf3e",
        "outputId": "c28e9cab-2126-49db-f276-fb54ebe81b87"
      },
      "source": [
        "# Perform the necessary imports\n",
        "import matplotlib.pyplot as plt\n",
        "from scipy.stats import pearsonr\n",
        "\n",
        "# Assign the 0th column of grains: width\n",
        "width = grains[:,0]\n",
        "\n",
        "# Assign the 1st column of grains: length\n",
        "length = grains[:,1]\n",
        "\n",
        "# Scatter plot width vs length\n",
        "plt.scatter(width, length)\n",
        "plt.axis('equal')\n",
        "plt.show()\n",
        "\n",
        "# Calculate the Pearson correlation\n",
        "correlation, pvalue = pearsonr(width, length)\n",
        "\n",
        "# Display the correlation\n",
        "print(correlation)"
      ],
      "execution_count": 140,
      "outputs": [
        {
          "output_type": "display_data",
          "data": {
            "image/png": "[encoded data removed]",
            "text/plain": [
              "<Figure size 432x288 with 1 Axes>"
            ]
          },
          "metadata": {
            "needs_background": "light"
          }
        },
        {
          "output_type": "stream",
          "name": "stdout",
          "text": [
            "0.8604405325922296\n"
          ]
        }
      ]
    },
    {
      "cell_type": "markdown",
      "metadata": {
        "id": "iSID2Pkbtaab"
      },
      "source": [
        "# PCA to decorrelate these correlated features"
      ]
    },
    {
      "cell_type": "code",
      "metadata": {
        "colab": {
          "base_uri": "https://localhost:8080/",
          "height": 282
        },
        "id": "NX8CQIABSf5q",
        "outputId": "68f869ca-7540-4721-9089-0f024b73b240"
      },
      "source": [
        "# Import PCA\n",
        "from sklearn.decomposition import PCA\n",
        "\n",
        "# Create PCA instance: model\n",
        "model = PCA()\n",
        "\n",
        "# Apply the fit_transform method of model to grains: pca_features\n",
        "pca_features = model.fit_transform(grains)\n",
        "\n",
        "# Assign 0th column of pca_features: xs\n",
        "xs = pca_features[:,0]\n",
        "\n",
        "# Assign 1st column of pca_features: ys\n",
        "ys = pca_features[:,1]\n",
        "\n",
        "# Scatter plot xs vs ys\n",
        "plt.scatter(xs, ys)\n",
        "plt.axis('equal')\n",
        "plt.show()\n",
        "\n",
        "# Calculate the Pearson correlation of xs and ys\n",
        "correlation, pvalue = pearsonr(xs, ys)\n",
        "\n",
        "# Display the correlation\n",
        "print(correlation)"
      ],
      "execution_count": 141,
      "outputs": [
        {
          "output_type": "display_data",
          "data": {
            "image/png": "[encoded data removed]",
            "text/plain": [
              "<Figure size 432x288 with 1 Axes>"
            ]
          },
          "metadata": {
            "needs_background": "light"
          }
        },
        {
          "output_type": "stream",
          "name": "stdout",
          "text": [
            "-2.4130118847726503e-16\n"
          ]
        }
      ]
    },
    {
      "cell_type": "code",
      "metadata": {
        "colab": {
          "base_uri": "https://localhost:8080/",
          "height": 268
        },
        "id": "X0eworqrs9GR",
        "outputId": "9c9db66f-a7b5-4942-b27f-e1210d4c8b95"
      },
      "source": [
        "# Make a scatter plot of the untransformed points\n",
        "plt.scatter(grains[:,0], grains[:,1])\n",
        "\n",
        "# Create a PCA instance: model\n",
        "model = PCA()\n",
        "\n",
        "# Fit model to points\n",
        "model.fit(grains)\n",
        "\n",
        "# Get the mean of the grain samples: mean\n",
        "mean = model.mean_\n",
        "\n",
        "# Get the first principal component: first_pc\n",
        "first_pc = model.components_[0,:]\n",
        "\n",
        "# Plot first_pc as an arrow, starting at mean\n",
        "plt.arrow(mean[0], mean[1], first_pc[0], first_pc[1], color='red', width=0.01)\n",
        "\n",
        "# Keep axes on same scale\n",
        "plt.axis('equal')\n",
        "plt.show()"
      ],
      "execution_count": 142,
      "outputs": [
        {
          "output_type": "display_data",
          "data": {
            "image/png": "[encoded data removed]",
            "text/plain": [
              "<Figure size 432x288 with 1 Axes>"
            ]
          },
          "metadata": {
            "needs_background": "light"
          }
        }
      ]
    },
    {
      "cell_type": "code",
      "metadata": {
        "colab": {
          "base_uri": "https://localhost:8080/",
          "height": 279
        },
        "id": "r6l1Z9BTs9MH",
        "outputId": "362bbeb0-b713-4b77-d0d7-afe292a40f03"
      },
      "source": [
        "# Perform the necessary imports\n",
        "from sklearn.decomposition import PCA\n",
        "from sklearn.preprocessing import StandardScaler\n",
        "from sklearn.pipeline import make_pipeline\n",
        "import matplotlib.pyplot as plt\n",
        "\n",
        "# Create scaler: scaler\n",
        "scaler = StandardScaler()\n",
        "\n",
        "# Create a PCA instance: pca\n",
        "pca = PCA()\n",
        "\n",
        "# Create pipeline: pipeline\n",
        "pipeline = make_pipeline(scaler, pca)\n",
        "\n",
        "# Fit the pipeline to 'samples'\n",
        "pipeline.fit(samples)\n",
        "\n",
        "# Plot the explained variances\n",
        "features = range(pca.n_components_)\n",
        "plt.bar(features, pca.explained_variance_)\n",
        "plt.xlabel('PCA feature')\n",
        "plt.ylabel('variance')\n",
        "plt.xticks(features)\n",
        "plt.show()\n"
      ],
      "execution_count": 143,
      "outputs": [
        {
          "output_type": "display_data",
          "data": {
            "image/png": "[encoded data removed]",
            "text/plain": [
              "<Figure size 432x288 with 1 Axes>"
            ]
          },
          "metadata": {
            "needs_background": "light"
          }
        }
      ]
    },
    {
      "cell_type": "markdown",
      "metadata": {
        "id": "WB-f9svS2Owc"
      },
      "source": [
        "# so it has 2 intrinsic dimension => only two dimensions of interest & importance => two signficant features => two informative features and rest are noisy features"
      ]
    },
    {
      "cell_type": "markdown",
      "metadata": {
        "id": "ORgKpIRu3lUL"
      },
      "source": [
        "# PCA has problem with sparse data (most of data is zeros) also called csr_matrix\n",
        "# So TruncatedSVD will work on this similar to PCA\n",
        "# TruncatedSVD is able to perform PCA on sparse arrays in csr_matrix format, such as word-frequency arrays."
      ]
    },
    {
      "cell_type": "code",
      "metadata": {
        "colab": {
          "base_uri": "https://localhost:8080/",
          "height": 309
        },
        "id": "N0SS2-8K6Nje",
        "outputId": "aea43d25-3e58-4c77-afe4-b8f896037986"
      },
      "source": [
        "wikipedia_words = pd.read_csv('datasets/wikipedia-vectors.csv')\n",
        "wikipedia_words.head()"
      ],
      "execution_count": 144,
      "outputs": [
        {
          "output_type": "execute_result",
          "data": {
            "text/html": [
              "<div>\n",
              "<style scoped>\n",
              "    .dataframe tbody tr th:only-of-type {\n",
              "        vertical-align: middle;\n",
              "    }\n",
              "\n",
              "    .dataframe tbody tr th {\n",
              "        vertical-align: top;\n",
              "    }\n",
              "\n",
              "    .dataframe thead th {\n",
              "        text-align: right;\n",
              "    }\n",
              "</style>\n",
              "<table border=\"1\" class=\"dataframe\">\n",
              "  <thead>\n",
              "    <tr style=\"text-align: right;\">\n",
              "      <th></th>\n",
              "      <th>Unnamed: 0</th>\n",
              "      <th>HTTP 404</th>\n",
              "      <th>Alexa Internet</th>\n",
              "      <th>Internet Explorer</th>\n",
              "      <th>HTTP cookie</th>\n",
              "      <th>Google Search</th>\n",
              "      <th>Tumblr</th>\n",
              "      <th>Hypertext Transfer Protocol</th>\n",
              "      <th>Social search</th>\n",
              "      <th>Firefox</th>\n",
              "      <th>LinkedIn</th>\n",
              "      <th>Global warming</th>\n",
              "      <th>Nationally Appropriate Mitigation Action</th>\n",
              "      <th>Nigel Lawson</th>\n",
              "      <th>Connie Hedegaard</th>\n",
              "      <th>Climate change</th>\n",
              "      <th>Kyoto Protocol</th>\n",
              "      <th>350.org</th>\n",
              "      <th>Greenhouse gas emissions by the United States</th>\n",
              "      <th>2010 United Nations Climate Change Conference</th>\n",
              "      <th>2007 United Nations Climate Change Conference</th>\n",
              "      <th>Angelina Jolie</th>\n",
              "      <th>Michael Fassbender</th>\n",
              "      <th>Denzel Washington</th>\n",
              "      <th>Catherine Zeta-Jones</th>\n",
              "      <th>Jessica Biel</th>\n",
              "      <th>Russell Crowe</th>\n",
              "      <th>Mila Kunis</th>\n",
              "      <th>Dakota Fanning</th>\n",
              "      <th>Anne Hathaway</th>\n",
              "      <th>Jennifer Aniston</th>\n",
              "      <th>France national football team</th>\n",
              "      <th>Cristiano Ronaldo</th>\n",
              "      <th>Arsenal F.C.</th>\n",
              "      <th>Radamel Falcao</th>\n",
              "      <th>Zlatan Ibrahimović</th>\n",
              "      <th>Colombia national football team</th>\n",
              "      <th>2014 FIFA World Cup qualification</th>\n",
              "      <th>Football</th>\n",
              "      <th>Neymar</th>\n",
              "      <th>Franck Ribéry</th>\n",
              "      <th>Tonsillitis</th>\n",
              "      <th>Hepatitis B</th>\n",
              "      <th>Doxycycline</th>\n",
              "      <th>Leukemia</th>\n",
              "      <th>Gout</th>\n",
              "      <th>Hepatitis C</th>\n",
              "      <th>Prednisone</th>\n",
              "      <th>Fever</th>\n",
              "      <th>Gabapentin</th>\n",
              "      <th>Lymphoma</th>\n",
              "      <th>Chad Kroeger</th>\n",
              "      <th>Nate Ruess</th>\n",
              "      <th>The Wanted</th>\n",
              "      <th>Stevie Nicks</th>\n",
              "      <th>Arctic Monkeys</th>\n",
              "      <th>Black Sabbath</th>\n",
              "      <th>Skrillex</th>\n",
              "      <th>Red Hot Chili Peppers</th>\n",
              "      <th>Sepsis</th>\n",
              "      <th>Adam Levine</th>\n",
              "    </tr>\n",
              "  </thead>\n",
              "  <tbody>\n",
              "    <tr>\n",
              "      <th>0</th>\n",
              "      <td>0</td>\n",
              "      <td>0.0</td>\n",
              "      <td>0.000000</td>\n",
              "      <td>0.0</td>\n",
              "      <td>0.0</td>\n",
              "      <td>0.0</td>\n",
              "      <td>0.0</td>\n",
              "      <td>0.0</td>\n",
              "      <td>0.0</td>\n",
              "      <td>0.0</td>\n",
              "      <td>0.0</td>\n",
              "      <td>0.0</td>\n",
              "      <td>0.0</td>\n",
              "      <td>0.000000</td>\n",
              "      <td>0.0</td>\n",
              "      <td>0.0</td>\n",
              "      <td>0.0</td>\n",
              "      <td>0.0</td>\n",
              "      <td>0.0</td>\n",
              "      <td>0.0</td>\n",
              "      <td>0.0</td>\n",
              "      <td>0.000000</td>\n",
              "      <td>0.0</td>\n",
              "      <td>0.0</td>\n",
              "      <td>0.020076</td>\n",
              "      <td>0.0</td>\n",
              "      <td>0.0</td>\n",
              "      <td>0.0</td>\n",
              "      <td>0.0</td>\n",
              "      <td>0.0</td>\n",
              "      <td>0.0</td>\n",
              "      <td>0.0</td>\n",
              "      <td>0.0</td>\n",
              "      <td>0.0</td>\n",
              "      <td>0.000000</td>\n",
              "      <td>0.000000</td>\n",
              "      <td>0.0</td>\n",
              "      <td>0.000000</td>\n",
              "      <td>0.0</td>\n",
              "      <td>0.0</td>\n",
              "      <td>0.0</td>\n",
              "      <td>0.0</td>\n",
              "      <td>0.0</td>\n",
              "      <td>0.0</td>\n",
              "      <td>0.0</td>\n",
              "      <td>0.0</td>\n",
              "      <td>0.0</td>\n",
              "      <td>0.0</td>\n",
              "      <td>0.0</td>\n",
              "      <td>0.0</td>\n",
              "      <td>0.000000</td>\n",
              "      <td>0.0</td>\n",
              "      <td>0.0</td>\n",
              "      <td>0.0</td>\n",
              "      <td>0.008878</td>\n",
              "      <td>0.0</td>\n",
              "      <td>0.0</td>\n",
              "      <td>0.049502</td>\n",
              "      <td>0.000000</td>\n",
              "      <td>0.00000</td>\n",
              "      <td>0.0</td>\n",
              "    </tr>\n",
              "    <tr>\n",
              "      <th>1</th>\n",
              "      <td>1</td>\n",
              "      <td>0.0</td>\n",
              "      <td>0.000000</td>\n",
              "      <td>0.0</td>\n",
              "      <td>0.0</td>\n",
              "      <td>0.0</td>\n",
              "      <td>0.0</td>\n",
              "      <td>0.0</td>\n",
              "      <td>0.0</td>\n",
              "      <td>0.0</td>\n",
              "      <td>0.0</td>\n",
              "      <td>0.0</td>\n",
              "      <td>0.0</td>\n",
              "      <td>0.000000</td>\n",
              "      <td>0.0</td>\n",
              "      <td>0.0</td>\n",
              "      <td>0.0</td>\n",
              "      <td>0.0</td>\n",
              "      <td>0.0</td>\n",
              "      <td>0.0</td>\n",
              "      <td>0.0</td>\n",
              "      <td>0.000000</td>\n",
              "      <td>0.0</td>\n",
              "      <td>0.0</td>\n",
              "      <td>0.000000</td>\n",
              "      <td>0.0</td>\n",
              "      <td>0.0</td>\n",
              "      <td>0.0</td>\n",
              "      <td>0.0</td>\n",
              "      <td>0.0</td>\n",
              "      <td>0.0</td>\n",
              "      <td>0.0</td>\n",
              "      <td>0.0</td>\n",
              "      <td>0.0</td>\n",
              "      <td>0.000000</td>\n",
              "      <td>0.000000</td>\n",
              "      <td>0.0</td>\n",
              "      <td>0.000000</td>\n",
              "      <td>0.0</td>\n",
              "      <td>0.0</td>\n",
              "      <td>0.0</td>\n",
              "      <td>0.0</td>\n",
              "      <td>0.0</td>\n",
              "      <td>0.0</td>\n",
              "      <td>0.0</td>\n",
              "      <td>0.0</td>\n",
              "      <td>0.0</td>\n",
              "      <td>0.0</td>\n",
              "      <td>0.0</td>\n",
              "      <td>0.0</td>\n",
              "      <td>0.000000</td>\n",
              "      <td>0.0</td>\n",
              "      <td>0.0</td>\n",
              "      <td>0.0</td>\n",
              "      <td>0.000000</td>\n",
              "      <td>0.0</td>\n",
              "      <td>0.0</td>\n",
              "      <td>0.000000</td>\n",
              "      <td>0.000000</td>\n",
              "      <td>0.00611</td>\n",
              "      <td>0.0</td>\n",
              "    </tr>\n",
              "    <tr>\n",
              "      <th>2</th>\n",
              "      <td>2</td>\n",
              "      <td>0.0</td>\n",
              "      <td>0.029607</td>\n",
              "      <td>0.0</td>\n",
              "      <td>0.0</td>\n",
              "      <td>0.0</td>\n",
              "      <td>0.0</td>\n",
              "      <td>0.0</td>\n",
              "      <td>0.0</td>\n",
              "      <td>0.0</td>\n",
              "      <td>0.0</td>\n",
              "      <td>0.0</td>\n",
              "      <td>0.0</td>\n",
              "      <td>0.000000</td>\n",
              "      <td>0.0</td>\n",
              "      <td>0.0</td>\n",
              "      <td>0.0</td>\n",
              "      <td>0.0</td>\n",
              "      <td>0.0</td>\n",
              "      <td>0.0</td>\n",
              "      <td>0.0</td>\n",
              "      <td>0.017294</td>\n",
              "      <td>0.0</td>\n",
              "      <td>0.0</td>\n",
              "      <td>0.000000</td>\n",
              "      <td>0.0</td>\n",
              "      <td>0.0</td>\n",
              "      <td>0.0</td>\n",
              "      <td>0.0</td>\n",
              "      <td>0.0</td>\n",
              "      <td>0.0</td>\n",
              "      <td>0.0</td>\n",
              "      <td>0.0</td>\n",
              "      <td>0.0</td>\n",
              "      <td>0.007054</td>\n",
              "      <td>0.006915</td>\n",
              "      <td>0.0</td>\n",
              "      <td>0.014745</td>\n",
              "      <td>0.0</td>\n",
              "      <td>0.0</td>\n",
              "      <td>0.0</td>\n",
              "      <td>0.0</td>\n",
              "      <td>0.0</td>\n",
              "      <td>0.0</td>\n",
              "      <td>0.0</td>\n",
              "      <td>0.0</td>\n",
              "      <td>0.0</td>\n",
              "      <td>0.0</td>\n",
              "      <td>0.0</td>\n",
              "      <td>0.0</td>\n",
              "      <td>0.020774</td>\n",
              "      <td>0.0</td>\n",
              "      <td>0.0</td>\n",
              "      <td>0.0</td>\n",
              "      <td>0.000000</td>\n",
              "      <td>0.0</td>\n",
              "      <td>0.0</td>\n",
              "      <td>0.000000</td>\n",
              "      <td>0.000000</td>\n",
              "      <td>0.00000</td>\n",
              "      <td>0.0</td>\n",
              "    </tr>\n",
              "    <tr>\n",
              "      <th>3</th>\n",
              "      <td>3</td>\n",
              "      <td>0.0</td>\n",
              "      <td>0.000000</td>\n",
              "      <td>0.0</td>\n",
              "      <td>0.0</td>\n",
              "      <td>0.0</td>\n",
              "      <td>0.0</td>\n",
              "      <td>0.0</td>\n",
              "      <td>0.0</td>\n",
              "      <td>0.0</td>\n",
              "      <td>0.0</td>\n",
              "      <td>0.0</td>\n",
              "      <td>0.0</td>\n",
              "      <td>0.000000</td>\n",
              "      <td>0.0</td>\n",
              "      <td>0.0</td>\n",
              "      <td>0.0</td>\n",
              "      <td>0.0</td>\n",
              "      <td>0.0</td>\n",
              "      <td>0.0</td>\n",
              "      <td>0.0</td>\n",
              "      <td>0.000000</td>\n",
              "      <td>0.0</td>\n",
              "      <td>0.0</td>\n",
              "      <td>0.000000</td>\n",
              "      <td>0.0</td>\n",
              "      <td>0.0</td>\n",
              "      <td>0.0</td>\n",
              "      <td>0.0</td>\n",
              "      <td>0.0</td>\n",
              "      <td>0.0</td>\n",
              "      <td>0.0</td>\n",
              "      <td>0.0</td>\n",
              "      <td>0.0</td>\n",
              "      <td>0.000000</td>\n",
              "      <td>0.000000</td>\n",
              "      <td>0.0</td>\n",
              "      <td>0.000000</td>\n",
              "      <td>0.0</td>\n",
              "      <td>0.0</td>\n",
              "      <td>0.0</td>\n",
              "      <td>0.0</td>\n",
              "      <td>0.0</td>\n",
              "      <td>0.0</td>\n",
              "      <td>0.0</td>\n",
              "      <td>0.0</td>\n",
              "      <td>0.0</td>\n",
              "      <td>0.0</td>\n",
              "      <td>0.0</td>\n",
              "      <td>0.0</td>\n",
              "      <td>0.000000</td>\n",
              "      <td>0.0</td>\n",
              "      <td>0.0</td>\n",
              "      <td>0.0</td>\n",
              "      <td>0.000000</td>\n",
              "      <td>0.0</td>\n",
              "      <td>0.0</td>\n",
              "      <td>0.000000</td>\n",
              "      <td>0.005646</td>\n",
              "      <td>0.00000</td>\n",
              "      <td>0.0</td>\n",
              "    </tr>\n",
              "    <tr>\n",
              "      <th>4</th>\n",
              "      <td>4</td>\n",
              "      <td>0.0</td>\n",
              "      <td>0.000000</td>\n",
              "      <td>0.0</td>\n",
              "      <td>0.0</td>\n",
              "      <td>0.0</td>\n",
              "      <td>0.0</td>\n",
              "      <td>0.0</td>\n",
              "      <td>0.0</td>\n",
              "      <td>0.0</td>\n",
              "      <td>0.0</td>\n",
              "      <td>0.0</td>\n",
              "      <td>0.0</td>\n",
              "      <td>0.029339</td>\n",
              "      <td>0.0</td>\n",
              "      <td>0.0</td>\n",
              "      <td>0.0</td>\n",
              "      <td>0.0</td>\n",
              "      <td>0.0</td>\n",
              "      <td>0.0</td>\n",
              "      <td>0.0</td>\n",
              "      <td>0.000000</td>\n",
              "      <td>0.0</td>\n",
              "      <td>0.0</td>\n",
              "      <td>0.000000</td>\n",
              "      <td>0.0</td>\n",
              "      <td>0.0</td>\n",
              "      <td>0.0</td>\n",
              "      <td>0.0</td>\n",
              "      <td>0.0</td>\n",
              "      <td>0.0</td>\n",
              "      <td>0.0</td>\n",
              "      <td>0.0</td>\n",
              "      <td>0.0</td>\n",
              "      <td>0.000000</td>\n",
              "      <td>0.000000</td>\n",
              "      <td>0.0</td>\n",
              "      <td>0.000000</td>\n",
              "      <td>0.0</td>\n",
              "      <td>0.0</td>\n",
              "      <td>0.0</td>\n",
              "      <td>0.0</td>\n",
              "      <td>0.0</td>\n",
              "      <td>0.0</td>\n",
              "      <td>0.0</td>\n",
              "      <td>0.0</td>\n",
              "      <td>0.0</td>\n",
              "      <td>0.0</td>\n",
              "      <td>0.0</td>\n",
              "      <td>0.0</td>\n",
              "      <td>0.000000</td>\n",
              "      <td>0.0</td>\n",
              "      <td>0.0</td>\n",
              "      <td>0.0</td>\n",
              "      <td>0.000000</td>\n",
              "      <td>0.0</td>\n",
              "      <td>0.0</td>\n",
              "      <td>0.000000</td>\n",
              "      <td>0.000000</td>\n",
              "      <td>0.00000</td>\n",
              "      <td>0.0</td>\n",
              "    </tr>\n",
              "  </tbody>\n",
              "</table>\n",
              "</div>"
            ],
            "text/plain": [
              "   Unnamed: 0  HTTP 404  ...   Sepsis  Adam Levine\n",
              "0           0       0.0  ...  0.00000          0.0\n",
              "1           1       0.0  ...  0.00611          0.0\n",
              "2           2       0.0  ...  0.00000          0.0\n",
              "3           3       0.0  ...  0.00000          0.0\n",
              "4           4       0.0  ...  0.00000          0.0\n",
              "\n",
              "[5 rows x 61 columns]"
            ]
          },
          "metadata": {},
          "execution_count": 144
        }
      ]
    },
    {
      "cell_type": "code",
      "metadata": {
        "id": "YbIoyLIk6lLS"
      },
      "source": [
        "articles = wikipedia_words.iloc[:, 1:].values\n",
        "titles = wikipedia_words.iloc[:, 1].values"
      ],
      "execution_count": 145,
      "outputs": []
    },
    {
      "cell_type": "code",
      "metadata": {
        "id": "fVDGfa8s4Si-"
      },
      "source": [
        "# Perform the necessary imports\n",
        "from sklearn.decomposition import TruncatedSVD\n",
        "from sklearn.cluster import KMeans\n",
        "from sklearn.pipeline import make_pipeline\n",
        "\n",
        "# Create a TruncatedSVD instance: svd\n",
        "svd = TruncatedSVD(n_components=50)\n",
        "\n",
        "# Create a KMeans instance: kmeans\n",
        "kmeans = KMeans(n_clusters=6)\n",
        "\n",
        "# Create a pipeline: pipeline\n",
        "pipeline = make_pipeline(svd, kmeans)\n"
      ],
      "execution_count": 146,
      "outputs": []
    },
    {
      "cell_type": "code",
      "metadata": {
        "colab": {
          "base_uri": "https://localhost:8080/"
        },
        "id": "KLcSyEFx4Sxd",
        "outputId": "36a78220-8098-49db-c5a3-3b5e2a89ede8"
      },
      "source": [
        "# Fit the pipeline to articles\n",
        "pipeline.fit(articles)\n",
        "\n",
        "# Calculate the cluster labels: labels\n",
        "labels = pipeline.predict(articles)\n",
        "\n",
        "# Create a DataFrame aligning labels and titles: df\n",
        "df = pd.DataFrame({'label': labels, 'article': titles})\n",
        "\n",
        "# Display df sorted by cluster label\n",
        "print(df.sort_values(by='label'))\n"
      ],
      "execution_count": 147,
      "outputs": [
        {
          "output_type": "stream",
          "name": "stdout",
          "text": [
            "       label   article\n",
            "2594       0  0.049790\n",
            "10544      0  0.055154\n",
            "12542      0  0.108913\n",
            "5756       0  0.237097\n",
            "456        0  0.000000\n",
            "...      ...       ...\n",
            "9044       5  0.000000\n",
            "6768       5  0.000000\n",
            "1503       5  0.000000\n",
            "760        5  0.000000\n",
            "6485       5  0.000000\n",
            "\n",
            "[13125 rows x 2 columns]\n"
          ]
        }
      ]
    },
    {
      "cell_type": "code",
      "metadata": {
        "colab": {
          "base_uri": "https://localhost:8080/"
        },
        "id": "bOcpLPFu-Ixv",
        "outputId": "e6620280-46b0-46d1-feea-482fe4a21f43"
      },
      "source": [
        "# Import PCA\n",
        "from sklearn.decomposition import PCA\n",
        "\n",
        "# Create a PCA model with 2 components: pca\n",
        "pca = PCA(n_components=3)\n",
        "\n",
        "# Fit the PCA instance to the scaled samples\n",
        "pca.fit(samples)\n",
        "\n",
        "# Transform the scaled samples: pca_features\n",
        "pca_features = pca.transform(samples)\n",
        "\n",
        "# Print the shape of pca_features\n",
        "print(pca_features.shape)\n"
      ],
      "execution_count": 148,
      "outputs": [
        {
          "output_type": "stream",
          "name": "stdout",
          "text": [
            "(209, 3)\n"
          ]
        }
      ]
    },
    {
      "cell_type": "markdown",
      "metadata": {
        "id": "0uqnUerK9eCW"
      },
      "source": [
        "# NMF => Non negative matrix factorization => similar to PCA But this works differently by factorizing => document is group of samples and so on => factorizing array into ones that can be reconstructed again"
      ]
    },
    {
      "cell_type": "code",
      "metadata": {
        "colab": {
          "base_uri": "https://localhost:8080/"
        },
        "id": "dFtS93BQ4TC2",
        "outputId": "27a07462-b472-4ddb-f65f-17c688b8c75b"
      },
      "source": [
        "# Import NMF\n",
        "from sklearn.decomposition import NMF\n",
        "\n",
        "# Create an NMF instance: model\n",
        "model = NMF(n_components=6)\n",
        "\n",
        "# Fit the model to articles\n",
        "model.fit(articles)\n",
        "\n",
        "# Transform the articles: nmf_features\n",
        "nmf_features = model.transform(articles)\n",
        "\n",
        "# Print the NMF features\n",
        "print(nmf_features.round(2))\n"
      ],
      "execution_count": 149,
      "outputs": [
        {
          "output_type": "stream",
          "name": "stdout",
          "text": [
            "[[0.01 0.   0.   0.01 0.   0.  ]\n",
            " [0.   0.   0.   0.   0.   0.  ]\n",
            " [0.   0.01 0.   0.   0.01 0.01]\n",
            " ...\n",
            " [0.   0.   0.   0.   0.   0.  ]\n",
            " [0.   0.   0.   0.01 0.   0.  ]\n",
            " [0.   0.   0.   0.   0.   0.  ]]\n"
          ]
        }
      ]
    },
    {
      "cell_type": "markdown",
      "metadata": {
        "id": "Eg7-eOVmCHa4"
      },
      "source": [
        "# NMF Can detect patterns so how to learn parts in images for example"
      ]
    },
    {
      "cell_type": "code",
      "metadata": {
        "colab": {
          "base_uri": "https://localhost:8080/",
          "height": 253
        },
        "id": "nAQtRCxis9hh",
        "outputId": "96c6ef4b-bb54-49b3-c3b1-fcccadb21748"
      },
      "source": [
        "lcd_images = pd.read_csv('datasets/lcd.csv')\n",
        "lcd_images.head()"
      ],
      "execution_count": 150,
      "outputs": [
        {
          "output_type": "execute_result",
          "data": {
            "text/html": [
              "<div>\n",
              "<style scoped>\n",
              "    .dataframe tbody tr th:only-of-type {\n",
              "        vertical-align: middle;\n",
              "    }\n",
              "\n",
              "    .dataframe tbody tr th {\n",
              "        vertical-align: top;\n",
              "    }\n",
              "\n",
              "    .dataframe thead th {\n",
              "        text-align: right;\n",
              "    }\n",
              "</style>\n",
              "<table border=\"1\" class=\"dataframe\">\n",
              "  <thead>\n",
              "    <tr style=\"text-align: right;\">\n",
              "      <th></th>\n",
              "      <th>0.0</th>\n",
              "      <th>0.0.1</th>\n",
              "      <th>0.0.2</th>\n",
              "      <th>0.0.3</th>\n",
              "      <th>0.0.4</th>\n",
              "      <th>0.0.5</th>\n",
              "      <th>0.0.6</th>\n",
              "      <th>0.0.7</th>\n",
              "      <th>0.0.8</th>\n",
              "      <th>0.0.9</th>\n",
              "      <th>1.0</th>\n",
              "      <th>1.0.1</th>\n",
              "      <th>1.0.2</th>\n",
              "      <th>1.0.3</th>\n",
              "      <th>0.0.10</th>\n",
              "      <th>0.0.11</th>\n",
              "      <th>0.0.12</th>\n",
              "      <th>0.0.13</th>\n",
              "      <th>0.0.14</th>\n",
              "      <th>0.0.15</th>\n",
              "      <th>0.0.16</th>\n",
              "      <th>0.0.17</th>\n",
              "      <th>1.0.4</th>\n",
              "      <th>0.0.18</th>\n",
              "      <th>0.0.19</th>\n",
              "      <th>0.0.20</th>\n",
              "      <th>0.0.21</th>\n",
              "      <th>0.0.22</th>\n",
              "      <th>0.0.23</th>\n",
              "      <th>0.0.24</th>\n",
              "      <th>1.0.5</th>\n",
              "      <th>0.0.25</th>\n",
              "      <th>0.0.26</th>\n",
              "      <th>0.0.27</th>\n",
              "      <th>0.0.28</th>\n",
              "      <th>0.0.29</th>\n",
              "      <th>0.0.30</th>\n",
              "      <th>0.0.31</th>\n",
              "      <th>1.0.6</th>\n",
              "      <th>0.0.32</th>\n",
              "      <th>...</th>\n",
              "      <th>0.0.55</th>\n",
              "      <th>0.0.56</th>\n",
              "      <th>0.0.57</th>\n",
              "      <th>0.0.58</th>\n",
              "      <th>0.0.59</th>\n",
              "      <th>0.0.60</th>\n",
              "      <th>1.0.9</th>\n",
              "      <th>0.0.61</th>\n",
              "      <th>0.0.62</th>\n",
              "      <th>0.0.63</th>\n",
              "      <th>0.0.64</th>\n",
              "      <th>0.0.65</th>\n",
              "      <th>0.0.66</th>\n",
              "      <th>0.0.67</th>\n",
              "      <th>1.0.10</th>\n",
              "      <th>0.0.68</th>\n",
              "      <th>0.0.69</th>\n",
              "      <th>0.0.70</th>\n",
              "      <th>0.0.71</th>\n",
              "      <th>0.0.72</th>\n",
              "      <th>0.0.73</th>\n",
              "      <th>0.0.74</th>\n",
              "      <th>1.0.11</th>\n",
              "      <th>0.0.75</th>\n",
              "      <th>0.0.76</th>\n",
              "      <th>0.0.77</th>\n",
              "      <th>0.0.78</th>\n",
              "      <th>0.0.79</th>\n",
              "      <th>0.0.80</th>\n",
              "      <th>0.0.81</th>\n",
              "      <th>0.0.82</th>\n",
              "      <th>0.0.83</th>\n",
              "      <th>0.0.84</th>\n",
              "      <th>0.0.85</th>\n",
              "      <th>0.0.86</th>\n",
              "      <th>0.0.87</th>\n",
              "      <th>0.0.88</th>\n",
              "      <th>0.0.89</th>\n",
              "      <th>0.0.90</th>\n",
              "      <th>0.0.91</th>\n",
              "    </tr>\n",
              "  </thead>\n",
              "  <tbody>\n",
              "    <tr>\n",
              "      <th>0</th>\n",
              "      <td>0.0</td>\n",
              "      <td>0.0</td>\n",
              "      <td>0.0</td>\n",
              "      <td>0.0</td>\n",
              "      <td>0.0</td>\n",
              "      <td>0.0</td>\n",
              "      <td>0.0</td>\n",
              "      <td>0.0</td>\n",
              "      <td>0.0</td>\n",
              "      <td>0.0</td>\n",
              "      <td>1.0</td>\n",
              "      <td>1.0</td>\n",
              "      <td>1.0</td>\n",
              "      <td>1.0</td>\n",
              "      <td>0.0</td>\n",
              "      <td>0.0</td>\n",
              "      <td>0.0</td>\n",
              "      <td>1.0</td>\n",
              "      <td>0.0</td>\n",
              "      <td>0.0</td>\n",
              "      <td>0.0</td>\n",
              "      <td>0.0</td>\n",
              "      <td>1.0</td>\n",
              "      <td>0.0</td>\n",
              "      <td>0.0</td>\n",
              "      <td>1.0</td>\n",
              "      <td>0.0</td>\n",
              "      <td>0.0</td>\n",
              "      <td>0.0</td>\n",
              "      <td>0.0</td>\n",
              "      <td>1.0</td>\n",
              "      <td>0.0</td>\n",
              "      <td>0.0</td>\n",
              "      <td>1.0</td>\n",
              "      <td>0.0</td>\n",
              "      <td>0.0</td>\n",
              "      <td>0.0</td>\n",
              "      <td>0.0</td>\n",
              "      <td>1.0</td>\n",
              "      <td>0.0</td>\n",
              "      <td>...</td>\n",
              "      <td>0.0</td>\n",
              "      <td>0.0</td>\n",
              "      <td>0.0</td>\n",
              "      <td>0.0</td>\n",
              "      <td>0.0</td>\n",
              "      <td>0.0</td>\n",
              "      <td>0.0</td>\n",
              "      <td>0.0</td>\n",
              "      <td>0.0</td>\n",
              "      <td>0.0</td>\n",
              "      <td>0.0</td>\n",
              "      <td>0.0</td>\n",
              "      <td>0.0</td>\n",
              "      <td>0.0</td>\n",
              "      <td>0.0</td>\n",
              "      <td>0.0</td>\n",
              "      <td>0.0</td>\n",
              "      <td>0.0</td>\n",
              "      <td>0.0</td>\n",
              "      <td>0.0</td>\n",
              "      <td>0.0</td>\n",
              "      <td>0.0</td>\n",
              "      <td>0.0</td>\n",
              "      <td>0.0</td>\n",
              "      <td>0.0</td>\n",
              "      <td>0.0</td>\n",
              "      <td>0.0</td>\n",
              "      <td>0.0</td>\n",
              "      <td>0.0</td>\n",
              "      <td>0.0</td>\n",
              "      <td>0.0</td>\n",
              "      <td>0.0</td>\n",
              "      <td>0.0</td>\n",
              "      <td>0.0</td>\n",
              "      <td>0.0</td>\n",
              "      <td>0.0</td>\n",
              "      <td>0.0</td>\n",
              "      <td>0.0</td>\n",
              "      <td>0.0</td>\n",
              "      <td>0.0</td>\n",
              "    </tr>\n",
              "    <tr>\n",
              "      <th>1</th>\n",
              "      <td>0.0</td>\n",
              "      <td>0.0</td>\n",
              "      <td>0.0</td>\n",
              "      <td>0.0</td>\n",
              "      <td>0.0</td>\n",
              "      <td>0.0</td>\n",
              "      <td>0.0</td>\n",
              "      <td>0.0</td>\n",
              "      <td>0.0</td>\n",
              "      <td>0.0</td>\n",
              "      <td>0.0</td>\n",
              "      <td>0.0</td>\n",
              "      <td>0.0</td>\n",
              "      <td>0.0</td>\n",
              "      <td>0.0</td>\n",
              "      <td>0.0</td>\n",
              "      <td>0.0</td>\n",
              "      <td>1.0</td>\n",
              "      <td>0.0</td>\n",
              "      <td>0.0</td>\n",
              "      <td>0.0</td>\n",
              "      <td>0.0</td>\n",
              "      <td>0.0</td>\n",
              "      <td>0.0</td>\n",
              "      <td>0.0</td>\n",
              "      <td>1.0</td>\n",
              "      <td>0.0</td>\n",
              "      <td>0.0</td>\n",
              "      <td>0.0</td>\n",
              "      <td>0.0</td>\n",
              "      <td>0.0</td>\n",
              "      <td>0.0</td>\n",
              "      <td>0.0</td>\n",
              "      <td>1.0</td>\n",
              "      <td>0.0</td>\n",
              "      <td>0.0</td>\n",
              "      <td>0.0</td>\n",
              "      <td>0.0</td>\n",
              "      <td>0.0</td>\n",
              "      <td>0.0</td>\n",
              "      <td>...</td>\n",
              "      <td>0.0</td>\n",
              "      <td>0.0</td>\n",
              "      <td>0.0</td>\n",
              "      <td>0.0</td>\n",
              "      <td>0.0</td>\n",
              "      <td>0.0</td>\n",
              "      <td>0.0</td>\n",
              "      <td>0.0</td>\n",
              "      <td>0.0</td>\n",
              "      <td>0.0</td>\n",
              "      <td>0.0</td>\n",
              "      <td>0.0</td>\n",
              "      <td>0.0</td>\n",
              "      <td>0.0</td>\n",
              "      <td>0.0</td>\n",
              "      <td>0.0</td>\n",
              "      <td>0.0</td>\n",
              "      <td>0.0</td>\n",
              "      <td>0.0</td>\n",
              "      <td>0.0</td>\n",
              "      <td>0.0</td>\n",
              "      <td>0.0</td>\n",
              "      <td>0.0</td>\n",
              "      <td>0.0</td>\n",
              "      <td>0.0</td>\n",
              "      <td>0.0</td>\n",
              "      <td>1.0</td>\n",
              "      <td>1.0</td>\n",
              "      <td>1.0</td>\n",
              "      <td>1.0</td>\n",
              "      <td>0.0</td>\n",
              "      <td>0.0</td>\n",
              "      <td>0.0</td>\n",
              "      <td>0.0</td>\n",
              "      <td>0.0</td>\n",
              "      <td>0.0</td>\n",
              "      <td>0.0</td>\n",
              "      <td>0.0</td>\n",
              "      <td>0.0</td>\n",
              "      <td>0.0</td>\n",
              "    </tr>\n",
              "    <tr>\n",
              "      <th>2</th>\n",
              "      <td>0.0</td>\n",
              "      <td>0.0</td>\n",
              "      <td>0.0</td>\n",
              "      <td>0.0</td>\n",
              "      <td>0.0</td>\n",
              "      <td>0.0</td>\n",
              "      <td>0.0</td>\n",
              "      <td>0.0</td>\n",
              "      <td>0.0</td>\n",
              "      <td>0.0</td>\n",
              "      <td>1.0</td>\n",
              "      <td>1.0</td>\n",
              "      <td>1.0</td>\n",
              "      <td>1.0</td>\n",
              "      <td>0.0</td>\n",
              "      <td>0.0</td>\n",
              "      <td>0.0</td>\n",
              "      <td>0.0</td>\n",
              "      <td>0.0</td>\n",
              "      <td>0.0</td>\n",
              "      <td>0.0</td>\n",
              "      <td>0.0</td>\n",
              "      <td>0.0</td>\n",
              "      <td>0.0</td>\n",
              "      <td>0.0</td>\n",
              "      <td>0.0</td>\n",
              "      <td>0.0</td>\n",
              "      <td>0.0</td>\n",
              "      <td>0.0</td>\n",
              "      <td>0.0</td>\n",
              "      <td>0.0</td>\n",
              "      <td>0.0</td>\n",
              "      <td>0.0</td>\n",
              "      <td>0.0</td>\n",
              "      <td>0.0</td>\n",
              "      <td>0.0</td>\n",
              "      <td>0.0</td>\n",
              "      <td>0.0</td>\n",
              "      <td>0.0</td>\n",
              "      <td>0.0</td>\n",
              "      <td>...</td>\n",
              "      <td>0.0</td>\n",
              "      <td>0.0</td>\n",
              "      <td>0.0</td>\n",
              "      <td>0.0</td>\n",
              "      <td>0.0</td>\n",
              "      <td>0.0</td>\n",
              "      <td>0.0</td>\n",
              "      <td>0.0</td>\n",
              "      <td>0.0</td>\n",
              "      <td>0.0</td>\n",
              "      <td>0.0</td>\n",
              "      <td>0.0</td>\n",
              "      <td>0.0</td>\n",
              "      <td>0.0</td>\n",
              "      <td>0.0</td>\n",
              "      <td>0.0</td>\n",
              "      <td>0.0</td>\n",
              "      <td>0.0</td>\n",
              "      <td>0.0</td>\n",
              "      <td>0.0</td>\n",
              "      <td>0.0</td>\n",
              "      <td>0.0</td>\n",
              "      <td>0.0</td>\n",
              "      <td>0.0</td>\n",
              "      <td>0.0</td>\n",
              "      <td>0.0</td>\n",
              "      <td>0.0</td>\n",
              "      <td>0.0</td>\n",
              "      <td>0.0</td>\n",
              "      <td>0.0</td>\n",
              "      <td>0.0</td>\n",
              "      <td>0.0</td>\n",
              "      <td>0.0</td>\n",
              "      <td>0.0</td>\n",
              "      <td>0.0</td>\n",
              "      <td>0.0</td>\n",
              "      <td>0.0</td>\n",
              "      <td>0.0</td>\n",
              "      <td>0.0</td>\n",
              "      <td>0.0</td>\n",
              "    </tr>\n",
              "    <tr>\n",
              "      <th>3</th>\n",
              "      <td>0.0</td>\n",
              "      <td>0.0</td>\n",
              "      <td>0.0</td>\n",
              "      <td>0.0</td>\n",
              "      <td>0.0</td>\n",
              "      <td>0.0</td>\n",
              "      <td>0.0</td>\n",
              "      <td>0.0</td>\n",
              "      <td>0.0</td>\n",
              "      <td>0.0</td>\n",
              "      <td>0.0</td>\n",
              "      <td>0.0</td>\n",
              "      <td>0.0</td>\n",
              "      <td>0.0</td>\n",
              "      <td>0.0</td>\n",
              "      <td>0.0</td>\n",
              "      <td>0.0</td>\n",
              "      <td>0.0</td>\n",
              "      <td>0.0</td>\n",
              "      <td>0.0</td>\n",
              "      <td>0.0</td>\n",
              "      <td>0.0</td>\n",
              "      <td>1.0</td>\n",
              "      <td>0.0</td>\n",
              "      <td>0.0</td>\n",
              "      <td>0.0</td>\n",
              "      <td>0.0</td>\n",
              "      <td>0.0</td>\n",
              "      <td>0.0</td>\n",
              "      <td>0.0</td>\n",
              "      <td>1.0</td>\n",
              "      <td>0.0</td>\n",
              "      <td>0.0</td>\n",
              "      <td>0.0</td>\n",
              "      <td>0.0</td>\n",
              "      <td>0.0</td>\n",
              "      <td>0.0</td>\n",
              "      <td>0.0</td>\n",
              "      <td>1.0</td>\n",
              "      <td>0.0</td>\n",
              "      <td>...</td>\n",
              "      <td>0.0</td>\n",
              "      <td>0.0</td>\n",
              "      <td>0.0</td>\n",
              "      <td>0.0</td>\n",
              "      <td>0.0</td>\n",
              "      <td>0.0</td>\n",
              "      <td>0.0</td>\n",
              "      <td>0.0</td>\n",
              "      <td>0.0</td>\n",
              "      <td>0.0</td>\n",
              "      <td>0.0</td>\n",
              "      <td>0.0</td>\n",
              "      <td>0.0</td>\n",
              "      <td>0.0</td>\n",
              "      <td>0.0</td>\n",
              "      <td>0.0</td>\n",
              "      <td>0.0</td>\n",
              "      <td>0.0</td>\n",
              "      <td>0.0</td>\n",
              "      <td>0.0</td>\n",
              "      <td>0.0</td>\n",
              "      <td>0.0</td>\n",
              "      <td>0.0</td>\n",
              "      <td>0.0</td>\n",
              "      <td>0.0</td>\n",
              "      <td>0.0</td>\n",
              "      <td>1.0</td>\n",
              "      <td>1.0</td>\n",
              "      <td>1.0</td>\n",
              "      <td>1.0</td>\n",
              "      <td>0.0</td>\n",
              "      <td>0.0</td>\n",
              "      <td>0.0</td>\n",
              "      <td>0.0</td>\n",
              "      <td>0.0</td>\n",
              "      <td>0.0</td>\n",
              "      <td>0.0</td>\n",
              "      <td>0.0</td>\n",
              "      <td>0.0</td>\n",
              "      <td>0.0</td>\n",
              "    </tr>\n",
              "    <tr>\n",
              "      <th>4</th>\n",
              "      <td>0.0</td>\n",
              "      <td>0.0</td>\n",
              "      <td>0.0</td>\n",
              "      <td>0.0</td>\n",
              "      <td>0.0</td>\n",
              "      <td>0.0</td>\n",
              "      <td>0.0</td>\n",
              "      <td>0.0</td>\n",
              "      <td>0.0</td>\n",
              "      <td>0.0</td>\n",
              "      <td>0.0</td>\n",
              "      <td>0.0</td>\n",
              "      <td>0.0</td>\n",
              "      <td>0.0</td>\n",
              "      <td>0.0</td>\n",
              "      <td>0.0</td>\n",
              "      <td>0.0</td>\n",
              "      <td>1.0</td>\n",
              "      <td>0.0</td>\n",
              "      <td>0.0</td>\n",
              "      <td>0.0</td>\n",
              "      <td>0.0</td>\n",
              "      <td>1.0</td>\n",
              "      <td>0.0</td>\n",
              "      <td>0.0</td>\n",
              "      <td>1.0</td>\n",
              "      <td>0.0</td>\n",
              "      <td>0.0</td>\n",
              "      <td>0.0</td>\n",
              "      <td>0.0</td>\n",
              "      <td>1.0</td>\n",
              "      <td>0.0</td>\n",
              "      <td>0.0</td>\n",
              "      <td>1.0</td>\n",
              "      <td>0.0</td>\n",
              "      <td>0.0</td>\n",
              "      <td>0.0</td>\n",
              "      <td>0.0</td>\n",
              "      <td>1.0</td>\n",
              "      <td>0.0</td>\n",
              "      <td>...</td>\n",
              "      <td>0.0</td>\n",
              "      <td>1.0</td>\n",
              "      <td>0.0</td>\n",
              "      <td>0.0</td>\n",
              "      <td>0.0</td>\n",
              "      <td>0.0</td>\n",
              "      <td>0.0</td>\n",
              "      <td>0.0</td>\n",
              "      <td>0.0</td>\n",
              "      <td>1.0</td>\n",
              "      <td>0.0</td>\n",
              "      <td>0.0</td>\n",
              "      <td>0.0</td>\n",
              "      <td>0.0</td>\n",
              "      <td>0.0</td>\n",
              "      <td>0.0</td>\n",
              "      <td>0.0</td>\n",
              "      <td>1.0</td>\n",
              "      <td>0.0</td>\n",
              "      <td>0.0</td>\n",
              "      <td>0.0</td>\n",
              "      <td>0.0</td>\n",
              "      <td>0.0</td>\n",
              "      <td>0.0</td>\n",
              "      <td>0.0</td>\n",
              "      <td>0.0</td>\n",
              "      <td>1.0</td>\n",
              "      <td>1.0</td>\n",
              "      <td>1.0</td>\n",
              "      <td>1.0</td>\n",
              "      <td>0.0</td>\n",
              "      <td>0.0</td>\n",
              "      <td>0.0</td>\n",
              "      <td>0.0</td>\n",
              "      <td>0.0</td>\n",
              "      <td>0.0</td>\n",
              "      <td>0.0</td>\n",
              "      <td>0.0</td>\n",
              "      <td>0.0</td>\n",
              "      <td>0.0</td>\n",
              "    </tr>\n",
              "  </tbody>\n",
              "</table>\n",
              "<p>5 rows × 104 columns</p>\n",
              "</div>"
            ],
            "text/plain": [
              "   0.0  0.0.1  0.0.2  0.0.3  0.0.4  ...  0.0.87  0.0.88  0.0.89  0.0.90  0.0.91\n",
              "0  0.0    0.0    0.0    0.0    0.0  ...     0.0     0.0     0.0     0.0     0.0\n",
              "1  0.0    0.0    0.0    0.0    0.0  ...     0.0     0.0     0.0     0.0     0.0\n",
              "2  0.0    0.0    0.0    0.0    0.0  ...     0.0     0.0     0.0     0.0     0.0\n",
              "3  0.0    0.0    0.0    0.0    0.0  ...     0.0     0.0     0.0     0.0     0.0\n",
              "4  0.0    0.0    0.0    0.0    0.0  ...     0.0     0.0     0.0     0.0     0.0\n",
              "\n",
              "[5 rows x 104 columns]"
            ]
          },
          "metadata": {},
          "execution_count": 150
        }
      ]
    },
    {
      "cell_type": "code",
      "metadata": {
        "id": "ks1QJvCss9lw"
      },
      "source": [
        "samples = lcd_images.values"
      ],
      "execution_count": 151,
      "outputs": []
    },
    {
      "cell_type": "code",
      "metadata": {
        "colab": {
          "base_uri": "https://localhost:8080/",
          "height": 575
        },
        "id": "zLL8Alh3s9pl",
        "outputId": "681e1a81-7c6b-4c84-878c-6023a5c2fcac"
      },
      "source": [
        "# Import pyplot\n",
        "from matplotlib import pyplot as plt\n",
        "\n",
        "# Select the 0th row: digit\n",
        "digit = samples[0,:]\n",
        "\n",
        "# Print digit\n",
        "print(digit)\n",
        "\n",
        "# Reshape digit to a 13x8 array: bitmap\n",
        "bitmap = digit.reshape((13, 8))\n",
        "\n",
        "# Print bitmap\n",
        "print(bitmap)\n",
        "\n",
        "# Use plt.imshow to display bitmap\n",
        "plt.imshow(bitmap, cmap='gray', interpolation='nearest')\n",
        "plt.colorbar()\n",
        "plt.show()\n"
      ],
      "execution_count": 152,
      "outputs": [
        {
          "output_type": "stream",
          "name": "stdout",
          "text": [
            "[0. 0. 0. 0. 0. 0. 0. 0. 0. 0. 1. 1. 1. 1. 0. 0. 0. 1. 0. 0. 0. 0. 1. 0.\n",
            " 0. 1. 0. 0. 0. 0. 1. 0. 0. 1. 0. 0. 0. 0. 1. 0. 0. 1. 0. 0. 0. 0. 1. 0.\n",
            " 0. 0. 1. 1. 1. 1. 0. 0. 0. 0. 0. 0. 0. 0. 0. 0. 0. 0. 0. 0. 0. 0. 0. 0.\n",
            " 0. 0. 0. 0. 0. 0. 0. 0. 0. 0. 0. 0. 0. 0. 0. 0. 0. 0. 0. 0. 0. 0. 0. 0.\n",
            " 0. 0. 0. 0. 0. 0. 0. 0.]\n",
            "[[0. 0. 0. 0. 0. 0. 0. 0.]\n",
            " [0. 0. 1. 1. 1. 1. 0. 0.]\n",
            " [0. 1. 0. 0. 0. 0. 1. 0.]\n",
            " [0. 1. 0. 0. 0. 0. 1. 0.]\n",
            " [0. 1. 0. 0. 0. 0. 1. 0.]\n",
            " [0. 1. 0. 0. 0. 0. 1. 0.]\n",
            " [0. 0. 1. 1. 1. 1. 0. 0.]\n",
            " [0. 0. 0. 0. 0. 0. 0. 0.]\n",
            " [0. 0. 0. 0. 0. 0. 0. 0.]\n",
            " [0. 0. 0. 0. 0. 0. 0. 0.]\n",
            " [0. 0. 0. 0. 0. 0. 0. 0.]\n",
            " [0. 0. 0. 0. 0. 0. 0. 0.]\n",
            " [0. 0. 0. 0. 0. 0. 0. 0.]]\n"
          ]
        },
        {
          "output_type": "display_data",
          "data": {
            "image/png": "[encoded data removed]",
            "text/plain": [
              "<Figure size 432x288 with 2 Axes>"
            ]
          },
          "metadata": {
            "needs_background": "light"
          }
        }
      ]
    },
    {
      "cell_type": "code",
      "metadata": {
        "id": "LghDAsCHs9sV"
      },
      "source": [
        "def show_as_image(sample):\n",
        "    bitmap = sample.reshape((13, 8))\n",
        "    plt.figure()\n",
        "    plt.imshow(bitmap, cmap='gray', interpolation='nearest')\n",
        "    plt.colorbar()\n",
        "    plt.show()"
      ],
      "execution_count": 153,
      "outputs": []
    },
    {
      "cell_type": "code",
      "metadata": {
        "colab": {
          "base_uri": "https://localhost:8080/",
          "height": 1000
        },
        "id": "SkSJ1Th4s90F",
        "outputId": "702b0d3c-1fcf-4049-c2b6-58a030285e1b"
      },
      "source": [
        "# Import NMF\n",
        "from sklearn.decomposition import NMF \n",
        "\n",
        "# Create an NMF model: model\n",
        "model = NMF(n_components=7)\n",
        "\n",
        "# Apply fit_transform to samples: features\n",
        "features = model.fit_transform(samples)\n",
        "\n",
        "# Call show_as_image on each component\n",
        "for component in model.components_:\n",
        "    show_as_image(component)\n",
        "\n",
        "# Assign the 0th row of features: digit_features\n",
        "digit_features = features[0,:]\n",
        "\n",
        "# Print digit_features\n",
        "print(digit_features)"
      ],
      "execution_count": 154,
      "outputs": [
        {
          "output_type": "display_data",
          "data": {
            "image/png": "[encoded data removed]",
            "text/plain": [
              "<Figure size 432x288 with 2 Axes>"
            ]
          },
          "metadata": {
            "needs_background": "light"
          }
        },
        {
          "output_type": "display_data",
          "data": {
            "image/png": "[encoded data removed]",
            "text/plain": [
              "<Figure size 432x288 with 2 Axes>"
            ]
          },
          "metadata": {
            "needs_background": "light"
          }
        },
        {
          "output_type": "display_data",
          "data": {
            "image/png": "[encoded data removed]",
            "text/plain": [
              "<Figure size 432x288 with 2 Axes>"
            ]
          },
          "metadata": {
            "needs_background": "light"
          }
        },
        {
          "output_type": "display_data",
          "data": {
            "image/png": "[encoded data removed]",
            "text/plain": [
              "<Figure size 432x288 with 2 Axes>"
            ]
          },
          "metadata": {
            "needs_background": "light"
          }
        },
        {
          "output_type": "display_data",
          "data": {
            "image/png": "[encoded data removed]",
            "text/plain": [
              "<Figure size 432x288 with 2 Axes>"
            ]
          },
          "metadata": {
            "needs_background": "light"
          }
        },
        {
          "output_type": "display_data",
          "data": {
            "image/png": "[encoded data removed]",
            "text/plain": [
              "<Figure size 432x288 with 2 Axes>"
            ]
          },
          "metadata": {
            "needs_background": "light"
          }
        },
        {
          "output_type": "display_data",
          "data": {
            "image/png": "[encoded data removed]",
            "text/plain": [
              "<Figure size 432x288 with 2 Axes>"
            ]
          },
          "metadata": {
            "needs_background": "light"
          }
        },
        {
          "output_type": "stream",
          "name": "stdout",
          "text": [
            "[0.56389272 0.         0.59151401 0.         0.53290007 0.48133215\n",
            " 0.        ]\n"
          ]
        }
      ]
    },
    {
      "cell_type": "markdown",
      "metadata": {
        "id": "jbaKmjdQDFgi"
      },
      "source": [
        "# NMF has expressed the digit as a sum of the components!"
      ]
    },
    {
      "cell_type": "markdown",
      "metadata": {
        "id": "0gH3ew9VDVvE"
      },
      "source": [
        "# But PCA doesn't learn parts and patterns"
      ]
    },
    {
      "cell_type": "code",
      "metadata": {
        "colab": {
          "base_uri": "https://localhost:8080/",
          "height": 1000
        },
        "id": "LSBDucQaSf8D",
        "outputId": "b801b7c9-d6c8-47a4-b77f-a536fb0b1558"
      },
      "source": [
        "# Import PCA\n",
        "from sklearn.decomposition import PCA\n",
        "\n",
        "# Create a PCA instance: model\n",
        "model = PCA(n_components=7)\n",
        "\n",
        "# Apply fit_transform to samples: features\n",
        "features = model.fit_transform(samples)\n",
        "\n",
        "# Call show_as_image on each component\n",
        "for component in model.components_:\n",
        "    show_as_image(component)"
      ],
      "execution_count": 155,
      "outputs": [
        {
          "output_type": "display_data",
          "data": {
            "image/png": "[encoded data removed]",
            "text/plain": [
              "<Figure size 432x288 with 2 Axes>"
            ]
          },
          "metadata": {
            "needs_background": "light"
          }
        },
        {
          "output_type": "display_data",
          "data": {
            "image/png": "[encoded data removed]",
            "text/plain": [
              "<Figure size 432x288 with 2 Axes>"
            ]
          },
          "metadata": {
            "needs_background": "light"
          }
        },
        {
          "output_type": "display_data",
          "data": {
            "image/png": "[encoded data removed]",
            "text/plain": [
              "<Figure size 432x288 with 2 Axes>"
            ]
          },
          "metadata": {
            "needs_background": "light"
          }
        },
        {
          "output_type": "display_data",
          "data": {
            "image/png": "[encoded data removed]",
            "text/plain": [
              "<Figure size 432x288 with 2 Axes>"
            ]
          },
          "metadata": {
            "needs_background": "light"
          }
        },
        {
          "output_type": "display_data",
          "data": {
            "image/png": "[encoded data removed]",
            "text/plain": [
              "<Figure size 432x288 with 2 Axes>"
            ]
          },
          "metadata": {
            "needs_background": "light"
          }
        },
        {
          "output_type": "display_data",
          "data": {
            "image/png": "[encoded data removed]",
            "text/plain": [
              "<Figure size 432x288 with 2 Axes>"
            ]
          },
          "metadata": {
            "needs_background": "light"
          }
        },
        {
          "output_type": "display_data",
          "data": {
            "image/png": "[encoded data removed]",
            "text/plain": [
              "<Figure size 432x288 with 2 Axes>"
            ]
          },
          "metadata": {
            "needs_background": "light"
          }
        }
      ]
    },
    {
      "cell_type": "markdown",
      "metadata": {
        "id": "hkzg_pL5QrPa"
      },
      "source": [
        "# We can use it also to make recommender system"
      ]
    },
    {
      "cell_type": "code",
      "metadata": {
        "id": "Y4MgR5tQSggO"
      },
      "source": [
        ""
      ],
      "execution_count": null,
      "outputs": []
    }
  ]
}