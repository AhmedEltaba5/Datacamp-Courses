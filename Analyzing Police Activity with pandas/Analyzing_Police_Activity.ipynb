{
  "nbformat": 4,
  "nbformat_minor": 0,
  "metadata": {
    "colab": {
      "name": "Analyzing Police Activity with Pandas.ipynb",
      "provenance": [],
      "collapsed_sections": []
    },
    "kernelspec": {
      "name": "python3",
      "display_name": "Python 3"
    },
    "language_info": {
      "name": "python"
    }
  },
  "cells": [
    {
      "cell_type": "code",
      "metadata": {
        "colab": {
          "base_uri": "https://localhost:8080/"
        },
        "id": "v84X6v2TUs4E",
        "outputId": "da76395f-f570-4333-a5ec-b8b55215c8b1"
      },
      "source": [
        "# Import the pandas library as pd\n",
        "import pandas as pd\n",
        "\n",
        "# Read 'police.csv' into a DataFrame named ri\n",
        "ri = pd.read_csv('police.csv')\n",
        "\n",
        "# Examine the head of the DataFrame\n",
        "print(ri.head())\n",
        "\n",
        "# Count the number of missing values in each column\n",
        "print(ri.isnull().sum())"
      ],
      "execution_count": null,
      "outputs": [
        {
          "output_type": "stream",
          "name": "stdout",
          "text": [
            "  state   stop_date stop_time  ...  stop_duration drugs_related_stop district\n",
            "0    RI  2005-01-04     12:55  ...       0-15 Min              False  Zone X4\n",
            "1    RI  2005-01-23     23:15  ...       0-15 Min              False  Zone K3\n",
            "2    RI  2005-02-17     04:15  ...       0-15 Min              False  Zone X4\n",
            "3    RI  2005-02-20     17:15  ...      16-30 Min              False  Zone X1\n",
            "4    RI  2005-02-24     01:20  ...       0-15 Min              False  Zone X3\n",
            "\n",
            "[5 rows x 15 columns]\n",
            "state                     0\n",
            "stop_date                 0\n",
            "stop_time                 0\n",
            "county_name           58689\n",
            "driver_gender          3609\n",
            "driver_race            3607\n",
            "violation_raw          3607\n",
            "violation              3607\n",
            "search_conducted          0\n",
            "search_type           56337\n",
            "stop_outcome           3607\n",
            "is_arrested            3607\n",
            "stop_duration          3607\n",
            "drugs_related_stop        0\n",
            "district                  0\n",
            "dtype: int64\n"
          ]
        }
      ]
    },
    {
      "cell_type": "code",
      "metadata": {
        "colab": {
          "base_uri": "https://localhost:8080/"
        },
        "id": "FGnu1f1QVJA7",
        "outputId": "89661e3e-feb6-4d75-a31a-cb7ea35bb4ec"
      },
      "source": [
        "# Examine the shape of the DataFrame\n",
        "print(ri.shape)\n",
        "\n",
        "# Drop the 'county_name' and 'state' columns\n",
        "ri.drop(['county_name', 'state'], axis='columns', inplace=True)\n",
        "\n",
        "# Examine the shape of the DataFrame (again)\n",
        "print(ri.shape)"
      ],
      "execution_count": null,
      "outputs": [
        {
          "output_type": "stream",
          "name": "stdout",
          "text": [
            "(58689, 15)\n",
            "(58689, 13)\n"
          ]
        }
      ]
    },
    {
      "cell_type": "code",
      "metadata": {
        "colab": {
          "base_uri": "https://localhost:8080/"
        },
        "id": "vVjVZQg9VKNY",
        "outputId": "663769f2-90a8-437d-9f94-ac6875e48314"
      },
      "source": [
        "# Count the number of missing values in each column\n",
        "print(ri.isnull().sum())\n",
        "\n",
        "# Drop all rows that are missing 'driver_gender'\n",
        "ri.dropna(subset=['driver_gender'], inplace=True)\n",
        "\n",
        "# Count the number of missing values in each column (again)\n",
        "print(ri.isnull().sum())\n",
        "\n",
        "# Examine the shape of the DataFrame\n",
        "print(ri.shape)"
      ],
      "execution_count": null,
      "outputs": [
        {
          "output_type": "stream",
          "name": "stdout",
          "text": [
            "stop_date                 0\n",
            "stop_time                 0\n",
            "driver_gender          3609\n",
            "driver_race            3607\n",
            "violation_raw          3607\n",
            "violation              3607\n",
            "search_conducted          0\n",
            "search_type           56337\n",
            "stop_outcome           3607\n",
            "is_arrested            3607\n",
            "stop_duration          3607\n",
            "drugs_related_stop        0\n",
            "district                  0\n",
            "dtype: int64\n",
            "stop_date                 0\n",
            "stop_time                 0\n",
            "driver_gender             0\n",
            "driver_race               0\n",
            "violation_raw             0\n",
            "violation                 0\n",
            "search_conducted          0\n",
            "search_type           52728\n",
            "stop_outcome              0\n",
            "is_arrested               0\n",
            "stop_duration             0\n",
            "drugs_related_stop        0\n",
            "district                  0\n",
            "dtype: int64\n",
            "(55080, 13)\n"
          ]
        }
      ]
    },
    {
      "cell_type": "code",
      "metadata": {
        "colab": {
          "base_uri": "https://localhost:8080/"
        },
        "id": "POOUe6vWVKPn",
        "outputId": "cbc0723c-0670-44ba-b545-d1d46be08f98"
      },
      "source": [
        "# Examine the head of the 'is_arrested' column\n",
        "print(ri.is_arrested.head())\n",
        "\n",
        "# Change the data type of 'is_arrested' to 'bool'\n",
        "ri['is_arrested'] = ri.is_arrested.astype('bool')\n",
        "\n",
        "# Check the data type of 'is_arrested' \n",
        "print(ri.is_arrested.dtype)"
      ],
      "execution_count": null,
      "outputs": [
        {
          "output_type": "stream",
          "name": "stdout",
          "text": [
            "0    False\n",
            "1    False\n",
            "2    False\n",
            "3     True\n",
            "4    False\n",
            "Name: is_arrested, dtype: object\n",
            "bool\n"
          ]
        }
      ]
    },
    {
      "cell_type": "code",
      "metadata": {
        "colab": {
          "base_uri": "https://localhost:8080/"
        },
        "id": "ijMEZWh2VKSU",
        "outputId": "cc37f78a-208c-4c23-e50d-1549cf95a0c9"
      },
      "source": [
        "# Concatenate 'stop_date' and 'stop_time' (separated by a space)\n",
        "combined = ri.stop_date.str.cat(ri.stop_time, sep=' ')\n",
        "\n",
        "# Convert 'combined' to datetime format\n",
        "ri['stop_datetime'] = pd.to_datetime(combined)\n",
        "\n",
        "# Examine the data types of the DataFrame\n",
        "print(ri.dtypes)"
      ],
      "execution_count": null,
      "outputs": [
        {
          "output_type": "stream",
          "name": "stdout",
          "text": [
            "stop_date                     object\n",
            "stop_time                     object\n",
            "driver_gender                 object\n",
            "driver_race                   object\n",
            "violation_raw                 object\n",
            "violation                     object\n",
            "search_conducted                bool\n",
            "search_type                   object\n",
            "stop_outcome                  object\n",
            "is_arrested                     bool\n",
            "stop_duration                 object\n",
            "drugs_related_stop              bool\n",
            "district                      object\n",
            "stop_datetime         datetime64[ns]\n",
            "dtype: object\n"
          ]
        }
      ]
    },
    {
      "cell_type": "code",
      "metadata": {
        "colab": {
          "base_uri": "https://localhost:8080/"
        },
        "id": "mO6RaPzEX5cp",
        "outputId": "04b44962-8e50-4392-9fa1-880082185e01"
      },
      "source": [
        "# Set 'stop_datetime' as the index\n",
        "ri.set_index('stop_datetime', inplace=True)\n",
        "\n",
        "# Examine the index\n",
        "print(ri.index)\n",
        "\n",
        "# Examine the columns\n",
        "print(ri.columns)"
      ],
      "execution_count": null,
      "outputs": [
        {
          "output_type": "stream",
          "name": "stdout",
          "text": [
            "DatetimeIndex(['2005-01-04 12:55:00', '2005-01-23 23:15:00',\n",
            "               '2005-02-17 04:15:00', '2005-02-20 17:15:00',\n",
            "               '2005-02-24 01:20:00', '2005-03-14 10:00:00',\n",
            "               '2005-03-29 21:55:00', '2005-04-04 21:25:00',\n",
            "               '2005-07-14 11:20:00', '2005-07-14 19:55:00',\n",
            "               ...\n",
            "               '2012-04-01 13:33:00', '2012-04-01 13:58:00',\n",
            "               '2012-04-01 14:15:00', '2012-04-01 14:17:00',\n",
            "               '2012-04-01 14:21:00', '2012-04-01 15:43:00',\n",
            "               '2012-04-02 00:18:00', '2012-04-02 00:34:00',\n",
            "               '2012-04-02 01:05:00', '2012-04-02 01:19:00'],\n",
            "              dtype='datetime64[ns]', name='stop_datetime', length=55080, freq=None)\n",
            "Index(['stop_date', 'stop_time', 'driver_gender', 'driver_race',\n",
            "       'violation_raw', 'violation', 'search_conducted', 'search_type',\n",
            "       'stop_outcome', 'is_arrested', 'stop_duration', 'drugs_related_stop',\n",
            "       'district'],\n",
            "      dtype='object')\n"
          ]
        }
      ]
    },
    {
      "cell_type": "code",
      "metadata": {
        "colab": {
          "base_uri": "https://localhost:8080/"
        },
        "id": "nvP9kJwBX5gq",
        "outputId": "83d7ce72-0efa-4dcb-a9c7-69887de34ae5"
      },
      "source": [
        "# Count the unique values in 'violation'\n",
        "print(ri.violation.value_counts())\n",
        "\n",
        "# Express the counts as proportions\n",
        "print(ri.violation.value_counts(normalize=True))"
      ],
      "execution_count": null,
      "outputs": [
        {
          "output_type": "stream",
          "name": "stdout",
          "text": [
            "Speeding               34472\n",
            "Moving violation        9964\n",
            "Equipment               5219\n",
            "Other                   3333\n",
            "Registration/plates     2092\n",
            "Name: violation, dtype: int64\n",
            "Speeding               0.625853\n",
            "Moving violation       0.180901\n",
            "Equipment              0.094753\n",
            "Other                  0.060512\n",
            "Registration/plates    0.037981\n",
            "Name: violation, dtype: float64\n"
          ]
        }
      ]
    },
    {
      "cell_type": "code",
      "metadata": {
        "colab": {
          "base_uri": "https://localhost:8080/"
        },
        "id": "6C6iUnE3X5jp",
        "outputId": "e9b38df4-d4f9-4099-da97-a0aab67aeec5"
      },
      "source": [
        "# Create a DataFrame of female drivers\n",
        "female = ri[ri['driver_gender'] == 'F']\n",
        "\n",
        "# Create a DataFrame of male drivers\n",
        "male = ri[ri['driver_gender'] == 'M']\n",
        "\n",
        "# Compute the violations by female drivers (as proportions)\n",
        "print(female.violation.value_counts(normalize=True))\n",
        "\n",
        "# Compute the violations by male drivers (as proportions)\n",
        "print(male.violation.value_counts(normalize=True))"
      ],
      "execution_count": null,
      "outputs": [
        {
          "output_type": "stream",
          "name": "stdout",
          "text": [
            "Speeding               0.735711\n",
            "Moving violation       0.120243\n",
            "Equipment              0.075569\n",
            "Registration/plates    0.039217\n",
            "Other                  0.029259\n",
            "Name: violation, dtype: float64\n",
            "Speeding               0.586001\n",
            "Moving violation       0.202905\n",
            "Equipment              0.101712\n",
            "Other                  0.071849\n",
            "Registration/plates    0.037533\n",
            "Name: violation, dtype: float64\n"
          ]
        }
      ]
    },
    {
      "cell_type": "code",
      "metadata": {
        "colab": {
          "base_uri": "https://localhost:8080/"
        },
        "id": "39zVqnfLX5mp",
        "outputId": "95e31351-fd5a-4d37-db59-c925130a5a12"
      },
      "source": [
        "# Create a DataFrame of female drivers stopped for speeding\n",
        "female_and_speeding = ri[(ri['driver_gender'] == 'F') & (ri['violation'] == 'Speeding')]\n",
        "\n",
        "# Create a DataFrame of male drivers stopped for speeding\n",
        "male_and_speeding = ri[(ri['driver_gender'] == 'M') & (ri['violation'] == 'Speeding')]\n",
        "\n",
        "# Compute the stop outcomes for female drivers (as proportions)\n",
        "print(female_and_speeding.stop_outcome.value_counts(normalize=True))\n",
        "\n",
        "# Compute the stop outcomes for male drivers (as proportions)\n",
        "print(male_and_speeding.stop_outcome.value_counts(normalize=True))"
      ],
      "execution_count": null,
      "outputs": [
        {
          "output_type": "stream",
          "name": "stdout",
          "text": [
            "Citation            0.975712\n",
            "Warning             0.015203\n",
            "Arrest Driver       0.006953\n",
            "N/D                 0.001298\n",
            "Arrest Passenger    0.000649\n",
            "No Action           0.000185\n",
            "Name: stop_outcome, dtype: float64\n",
            "Citation            0.963057\n",
            "Arrest Driver       0.018450\n",
            "Warning             0.015242\n",
            "Arrest Passenger    0.001267\n",
            "N/D                 0.001140\n",
            "No Action           0.000844\n",
            "Name: stop_outcome, dtype: float64\n"
          ]
        }
      ]
    },
    {
      "cell_type": "code",
      "metadata": {
        "colab": {
          "base_uri": "https://localhost:8080/"
        },
        "id": "M2_C0ZeWX5po",
        "outputId": "cdc4ca4f-f030-4df6-802e-15fed1c1d5ba"
      },
      "source": [
        "# Check the data type of 'search_conducted'\n",
        "print(ri.search_conducted.dtype)\n",
        "\n",
        "# Calculate the search rate by counting the values\n",
        "print(ri.search_conducted.value_counts(normalize=True))\n",
        "\n",
        "# Calculate the search rate by taking the mean\n",
        "print(ri.search_conducted.mean())"
      ],
      "execution_count": null,
      "outputs": [
        {
          "output_type": "stream",
          "name": "stdout",
          "text": [
            "bool\n",
            "False    0.957298\n",
            "True     0.042702\n",
            "Name: search_conducted, dtype: float64\n",
            "0.042701525054466234\n"
          ]
        }
      ]
    },
    {
      "cell_type": "code",
      "metadata": {
        "colab": {
          "base_uri": "https://localhost:8080/"
        },
        "id": "mu17cQWjX5s4",
        "outputId": "1e790a54-163b-4919-e669-c7c97a7e8816"
      },
      "source": [
        "# Calculate the search rate for female drivers\n",
        "print(ri[ri['driver_gender'] == 'F'].search_conducted.mean())"
      ],
      "execution_count": null,
      "outputs": [
        {
          "output_type": "stream",
          "name": "stdout",
          "text": [
            "0.0219615332151139\n"
          ]
        }
      ]
    },
    {
      "cell_type": "code",
      "metadata": {
        "colab": {
          "base_uri": "https://localhost:8080/"
        },
        "id": "s1yg9QPeX5wC",
        "outputId": "4ebab9dd-6fe8-42b5-9bdb-83e18479f4fd"
      },
      "source": [
        "# Calculate the search rate for male drivers\n",
        "print(ri[ri['driver_gender'] == 'M'].search_conducted.mean())"
      ],
      "execution_count": null,
      "outputs": [
        {
          "output_type": "stream",
          "name": "stdout",
          "text": [
            "0.05022514721163838\n"
          ]
        }
      ]
    },
    {
      "cell_type": "code",
      "metadata": {
        "colab": {
          "base_uri": "https://localhost:8080/"
        },
        "id": "ljSQwAHdX5z6",
        "outputId": "cf80cbf7-fd96-40b9-a42a-2dba4cd8a5a9"
      },
      "source": [
        "# Calculate the search rate for both groups simultaneously\n",
        "print(ri.groupby('driver_gender').search_conducted.mean())"
      ],
      "execution_count": null,
      "outputs": [
        {
          "output_type": "stream",
          "name": "stdout",
          "text": [
            "driver_gender\n",
            "F    0.021962\n",
            "M    0.050225\n",
            "Name: search_conducted, dtype: float64\n"
          ]
        }
      ]
    },
    {
      "cell_type": "code",
      "metadata": {
        "colab": {
          "base_uri": "https://localhost:8080/"
        },
        "id": "nTuADjtdX53U",
        "outputId": "d382855a-25ea-496f-9d95-f979bc06e5b0"
      },
      "source": [
        "# Calculate the search rate for each combination of gender and violation\n",
        "print(ri.groupby(['driver_gender', 'violation']).search_conducted.mean())"
      ],
      "execution_count": null,
      "outputs": [
        {
          "output_type": "stream",
          "name": "stdout",
          "text": [
            "driver_gender  violation          \n",
            "F              Equipment              0.065884\n",
            "               Moving violation       0.045377\n",
            "               Other                  0.053613\n",
            "               Registration/plates    0.080000\n",
            "               Speeding               0.009270\n",
            "M              Equipment              0.099246\n",
            "               Moving violation       0.065724\n",
            "               Other                  0.047865\n",
            "               Registration/plates    0.143705\n",
            "               Speeding               0.030652\n",
            "Name: search_conducted, dtype: float64\n"
          ]
        }
      ]
    },
    {
      "cell_type": "code",
      "metadata": {
        "colab": {
          "base_uri": "https://localhost:8080/"
        },
        "id": "1nkgfQvjX576",
        "outputId": "3f6454ff-92b1-4330-a433-fde0c1b48b46"
      },
      "source": [
        "# Reverse the ordering to group by violation before gender\n",
        "print(ri.groupby(['violation', 'driver_gender']).search_conducted.mean())"
      ],
      "execution_count": null,
      "outputs": [
        {
          "output_type": "stream",
          "name": "stdout",
          "text": [
            "violation            driver_gender\n",
            "Equipment            F                0.065884\n",
            "                     M                0.099246\n",
            "Moving violation     F                0.045377\n",
            "                     M                0.065724\n",
            "Other                F                0.053613\n",
            "                     M                0.047865\n",
            "Registration/plates  F                0.080000\n",
            "                     M                0.143705\n",
            "Speeding             F                0.009270\n",
            "                     M                0.030652\n",
            "Name: search_conducted, dtype: float64\n"
          ]
        }
      ]
    },
    {
      "cell_type": "code",
      "metadata": {
        "colab": {
          "base_uri": "https://localhost:8080/"
        },
        "id": "wzGvIma3X6CL",
        "outputId": "e8806b47-c836-4454-a6f9-f931c7a16997"
      },
      "source": [
        "# Count the 'search_type' values\n",
        "print(ri.search_type.value_counts())\n",
        "\n",
        "# Check if 'search_type' contains the string 'Protective Frisk'\n",
        "ri['frisk'] = ri.search_type.str.contains('Protective Frisk', na=False)\n",
        "\n",
        "# Check the data type of 'frisk'\n",
        "print(ri.frisk.dtype)\n",
        "\n",
        "# Take the sum of 'frisk'\n",
        "print(ri.frisk.sum())"
      ],
      "execution_count": null,
      "outputs": [
        {
          "output_type": "stream",
          "name": "stdout",
          "text": [
            "Incident to Arrest                                          1026\n",
            "Probable Cause                                               526\n",
            "Reasonable Suspicion                                         158\n",
            "Inventory                                                    140\n",
            "Protective Frisk                                             130\n",
            "Incident to Arrest,Inventory                                  95\n",
            "Incident to Arrest,Probable Cause                             72\n",
            "Incident to Arrest,Protective Frisk                           32\n",
            "Probable Cause,Reasonable Suspicion                           27\n",
            "Probable Cause,Protective Frisk                               26\n",
            "Incident to Arrest,Inventory,Probable Cause                   25\n",
            "Incident to Arrest,Inventory,Protective Frisk                 18\n",
            "Protective Frisk,Reasonable Suspicion                         16\n",
            "Inventory,Probable Cause                                      14\n",
            "Inventory,Protective Frisk                                    12\n",
            "Incident to Arrest,Probable Cause,Protective Frisk            11\n",
            "Incident to Arrest,Reasonable Suspicion                        6\n",
            "Probable Cause,Protective Frisk,Reasonable Suspicion           5\n",
            "Incident to Arrest,Probable Cause,Reasonable Suspicion         4\n",
            "Incident to Arrest,Inventory,Reasonable Suspicion              3\n",
            "Incident to Arrest,Protective Frisk,Reasonable Suspicion       2\n",
            "Inventory,Protective Frisk,Reasonable Suspicion                1\n",
            "Inventory,Probable Cause,Protective Frisk                      1\n",
            "Inventory,Probable Cause,Reasonable Suspicion                  1\n",
            "Inventory,Reasonable Suspicion                                 1\n",
            "Name: search_type, dtype: int64\n",
            "bool\n",
            "254\n"
          ]
        }
      ]
    },
    {
      "cell_type": "code",
      "metadata": {
        "colab": {
          "base_uri": "https://localhost:8080/"
        },
        "id": "AX39nfaz0uT9",
        "outputId": "d8687f08-69f8-4255-d02d-d3e1ee052b0c"
      },
      "source": [
        "# Create a DataFrame of stops in which a search was conducted\n",
        "searched = ri[ri.search_conducted == True]\n",
        "\n",
        "# Calculate the overall frisk rate by taking the mean of 'frisk'\n",
        "print(searched.frisk.mean())\n",
        "\n",
        "# Calculate the frisk rate for each gender\n",
        "print(searched.groupby('driver_gender').frisk.mean())"
      ],
      "execution_count": null,
      "outputs": [
        {
          "output_type": "stream",
          "name": "stdout",
          "text": [
            "0.10799319727891156\n",
            "driver_gender\n",
            "F    0.077640\n",
            "M    0.112808\n",
            "Name: frisk, dtype: float64\n"
          ]
        }
      ]
    },
    {
      "cell_type": "code",
      "metadata": {
        "id": "WSazEkxB0uW0",
        "colab": {
          "base_uri": "https://localhost:8080/"
        },
        "outputId": "ac7f935d-239c-4f01-efb9-dd1424e9dc2b"
      },
      "source": [
        "# Calculate the overall arrest rate\n",
        "print(ri.is_arrested.mean())\n",
        "\n",
        "# Calculate the hourly arrest rate\n",
        "print(ri.groupby(ri.index.hour).is_arrested.mean())\n",
        "\n",
        "# Save the hourly arrest rate\n",
        "hourly_arrest_rate = ri.groupby(ri.index.hour).is_arrested.mean()"
      ],
      "execution_count": 21,
      "outputs": [
        {
          "output_type": "stream",
          "name": "stdout",
          "text": [
            "0.03798111837327524\n",
            "stop_datetime\n",
            "0     0.051167\n",
            "1     0.071615\n",
            "2     0.071176\n",
            "3     0.060958\n",
            "4     0.044776\n",
            "5     0.021583\n",
            "6     0.010758\n",
            "7     0.013923\n",
            "8     0.021392\n",
            "9     0.026438\n",
            "10    0.030878\n",
            "11    0.031412\n",
            "12    0.037538\n",
            "13    0.032431\n",
            "14    0.033486\n",
            "15    0.035254\n",
            "16    0.039700\n",
            "17    0.044135\n",
            "18    0.043171\n",
            "19    0.037390\n",
            "20    0.037500\n",
            "21    0.069507\n",
            "22    0.054536\n",
            "23    0.047776\n",
            "Name: is_arrested, dtype: float64\n"
          ]
        }
      ]
    },
    {
      "cell_type": "code",
      "metadata": {
        "id": "54sFhC5r0uay",
        "colab": {
          "base_uri": "https://localhost:8080/",
          "height": 295
        },
        "outputId": "cc6b1d1b-240d-42ef-aff0-75d1dec89e93"
      },
      "source": [
        "# Import matplotlib.pyplot as plt\n",
        "import matplotlib.pyplot as plt\n",
        "\n",
        "# Create a line plot of 'hourly_arrest_rate'\n",
        "plt.plot(hourly_arrest_rate)\n",
        "\n",
        "# Add the xlabel, ylabel, and title\n",
        "plt.xlabel('Hour')\n",
        "plt.ylabel('Arrest Rate')\n",
        "plt.title('Arrest Rate by Time of Day')\n",
        "\n",
        "# Display the plot\n",
        "plt.show()"
      ],
      "execution_count": 22,
      "outputs": [
        {
          "output_type": "display_data",
          "data": {
            "image/png": "[encoded data removed]",
            "text/plain": [
              "<Figure size 432x288 with 1 Axes>"
            ]
          },
          "metadata": {
            "needs_background": "light"
          }
        }
      ]
    },
    {
      "cell_type": "code",
      "metadata": {
        "id": "vQnX3qQK0udN",
        "colab": {
          "base_uri": "https://localhost:8080/",
          "height": 450
        },
        "outputId": "ba577023-b1bb-4e67-dc5e-a233fa02a3a9"
      },
      "source": [
        "# Calculate the annual rate of drug-related stops\n",
        "print(ri.drugs_related_stop.resample('A').mean())\n",
        "\n",
        "# Save the annual rate of drug-related stops\n",
        "annual_drug_rate = ri.drugs_related_stop.resample('A').mean()\n",
        "\n",
        "# Create a line plot of 'annual_drug_rate'\n",
        "annual_drug_rate.plot()\n",
        "\n",
        "# Display the plot\n",
        "plt.show()"
      ],
      "execution_count": 23,
      "outputs": [
        {
          "output_type": "stream",
          "name": "stdout",
          "text": [
            "stop_datetime\n",
            "2005-12-31    0.006501\n",
            "2006-12-31    0.007258\n",
            "2007-12-31    0.007970\n",
            "2008-12-31    0.007505\n",
            "2009-12-31    0.009889\n",
            "2010-12-31    0.010081\n",
            "2011-12-31    0.009731\n",
            "2012-12-31    0.009577\n",
            "Freq: A-DEC, Name: drugs_related_stop, dtype: float64\n"
          ]
        },
        {
          "output_type": "display_data",
          "data": {
            "image/png": "[encoded data removed]",
            "text/plain": [
              "<Figure size 432x288 with 1 Axes>"
            ]
          },
          "metadata": {
            "needs_background": "light"
          }
        }
      ]
    },
    {
      "cell_type": "code",
      "metadata": {
        "id": "vL-z_9QT0ugM",
        "colab": {
          "base_uri": "https://localhost:8080/",
          "height": 270
        },
        "outputId": "d7eb00c8-835f-4331-97ec-5138c0d3654a"
      },
      "source": [
        "# Calculate and save the annual search rate\n",
        "annual_search_rate = ri.search_conducted.resample('A').mean()\n",
        "\n",
        "# Concatenate 'annual_drug_rate' and 'annual_search_rate'\n",
        "annual = pd.concat([annual_drug_rate, annual_search_rate], axis=1)\n",
        "\n",
        "# Create subplots from 'annual'\n",
        "annual.plot(subplots=True)\n",
        "\n",
        "# Display the subplots\n",
        "plt.show()"
      ],
      "execution_count": 24,
      "outputs": [
        {
          "output_type": "display_data",
          "data": {
            "image/png": "[encoded data removed]",
            "text/plain": [
              "<Figure size 432x288 with 2 Axes>"
            ]
          },
          "metadata": {
            "needs_background": "light"
          }
        }
      ]
    },
    {
      "cell_type": "code",
      "metadata": {
        "id": "C3qMCoLH0ujT",
        "colab": {
          "base_uri": "https://localhost:8080/"
        },
        "outputId": "492a7131-4421-4391-bba3-57993b7555fc"
      },
      "source": [
        "# Create a frequency table of districts and violations\n",
        "print(pd.crosstab(ri.district, ri.violation))\n",
        "\n",
        "# Save the frequency table as 'all_zones'\n",
        "all_zones = pd.crosstab(ri.district, ri.violation)\n",
        "\n",
        "# Select rows 'Zone K1' through 'Zone K3'\n",
        "print(all_zones.loc['Zone K1':'Zone K3'])\n",
        "\n",
        "# Save the smaller table as 'k_zones'\n",
        "k_zones = all_zones.loc['Zone K1':'Zone K3']"
      ],
      "execution_count": 25,
      "outputs": [
        {
          "output_type": "stream",
          "name": "stdout",
          "text": [
            "violation  Equipment  Moving violation  Other  Registration/plates  Speeding\n",
            "district                                                                    \n",
            "Zone               0                 0      0                    0         1\n",
            "Zone K1          660              1226    288                  119      5887\n",
            "Zone K2          640              1571    720                  371      6439\n",
            "Zone K3         1057              1506    541                  357      8401\n",
            "Zone X1          144               436     90                   11       800\n",
            "Zone X3          839              1749    542                  328      6078\n",
            "Zone X4         1879              3476   1152                  906      6866\n",
            "violation  Equipment  Moving violation  Other  Registration/plates  Speeding\n",
            "district                                                                    \n",
            "Zone K1          660              1226    288                  119      5887\n",
            "Zone K2          640              1571    720                  371      6439\n",
            "Zone K3         1057              1506    541                  357      8401\n"
          ]
        }
      ]
    },
    {
      "cell_type": "code",
      "metadata": {
        "id": "PPY2g_SW0um7",
        "colab": {
          "base_uri": "https://localhost:8080/",
          "height": 311
        },
        "outputId": "866bb060-3a71-4b88-b9c1-600954a77e10"
      },
      "source": [
        "# Create a bar plot of 'k_zones'\n",
        "k_zones.plot(kind='bar')\n",
        "\n",
        "# Display the plot\n",
        "plt.show()"
      ],
      "execution_count": 26,
      "outputs": [
        {
          "output_type": "display_data",
          "data": {
            "image/png": "[encoded data removed]",
            "text/plain": [
              "<Figure size 432x288 with 1 Axes>"
            ]
          },
          "metadata": {
            "needs_background": "light"
          }
        }
      ]
    },
    {
      "cell_type": "code",
      "metadata": {
        "id": "gTpdY79X0urp",
        "colab": {
          "base_uri": "https://localhost:8080/",
          "height": 311
        },
        "outputId": "92f87515-049d-48c6-f42f-cda195171ea8"
      },
      "source": [
        "# Create a stacked bar plot of 'k_zones'\n",
        "k_zones.plot(kind='bar', stacked=True)\n",
        "\n",
        "# Display the plot\n",
        "plt.show()"
      ],
      "execution_count": 27,
      "outputs": [
        {
          "output_type": "display_data",
          "data": {
            "image/png": "[encoded data removed]",
            "text/plain": [
              "<Figure size 432x288 with 1 Axes>"
            ]
          },
          "metadata": {
            "needs_background": "light"
          }
        }
      ]
    },
    {
      "cell_type": "code",
      "metadata": {
        "id": "CwVOK5yQ0uxi",
        "colab": {
          "base_uri": "https://localhost:8080/"
        },
        "outputId": "720cffa8-4170-471d-d158-7c319f14b1f0"
      },
      "source": [
        "# Print the unique values in 'stop_duration'\n",
        "print(ri.stop_duration.unique())\n",
        "\n",
        "# Create a dictionary that maps strings to integers\n",
        "mapping = {'0-15 Min': 8, '16-30 Min': 23, '30+ Min': 45}\n",
        "\n",
        "# Convert the 'stop_duration' strings to integers using the 'mapping'\n",
        "ri['stop_minutes'] = ri.stop_duration.map(mapping)\n",
        "\n",
        "# Print the unique values in 'stop_minutes'\n",
        "print(ri.stop_minutes.unique())"
      ],
      "execution_count": 28,
      "outputs": [
        {
          "output_type": "stream",
          "name": "stdout",
          "text": [
            "['0-15 Min' '16-30 Min' '30+ Min']\n",
            "[ 8 23 45]\n"
          ]
        }
      ]
    },
    {
      "cell_type": "code",
      "metadata": {
        "id": "rwL1RXVq0u0y",
        "colab": {
          "base_uri": "https://localhost:8080/",
          "height": 486
        },
        "outputId": "932d9973-cd63-40ec-ca13-63216da91056"
      },
      "source": [
        "# Calculate the mean 'stop_minutes' for each value in 'violation_raw'\n",
        "print(ri.groupby('violation_raw').stop_minutes.mean())\n",
        "\n",
        "# Save the resulting Series as 'stop_length'\n",
        "stop_length = ri.groupby('violation_raw').stop_minutes.mean()\n",
        "\n",
        "# Sort 'stop_length' by its values and create a horizontal bar plot\n",
        "stop_length.sort_values().plot(kind='barh')\n",
        "\n",
        "# Display the plot\n",
        "plt.show()"
      ],
      "execution_count": 29,
      "outputs": [
        {
          "output_type": "stream",
          "name": "stdout",
          "text": [
            "violation_raw\n",
            "APB                                 21.000000\n",
            "Call for Service                    25.145408\n",
            "Equipment/Inspection Violation      13.053075\n",
            "Motorist Assist/Courtesy            18.351562\n",
            "Other Traffic Violation             15.581995\n",
            "Registration Violation              16.239962\n",
            "Special Detail/Directed Patrol      15.180479\n",
            "Speeding                            10.976677\n",
            "Suspicious Person                   15.861111\n",
            "Violation of City/Town Ordinance    14.169014\n",
            "Warrant                             27.545455\n",
            "Name: stop_minutes, dtype: float64\n"
          ]
        },
        {
          "output_type": "display_data",
          "data": {
            "image/png": "[encoded data removed]",
            "text/plain": [
              "<Figure size 432x288 with 1 Axes>"
            ]
          },
          "metadata": {
            "needs_background": "light"
          }
        }
      ]
    },
    {
      "cell_type": "code",
      "metadata": {
        "id": "4pOfFPB70u4R",
        "colab": {
          "base_uri": "https://localhost:8080/",
          "height": 472
        },
        "outputId": "44bca1ce-8c3f-4eb0-a576-3a5d31eb7e2f"
      },
      "source": [
        "# Read 'weather.csv' into a DataFrame named 'weather'\n",
        "weather = pd.read_csv('weather.csv')\n",
        "\n",
        "# Describe the temperature columns\n",
        "print(weather[['TMIN', 'TAVG', 'TMAX']].describe())\n",
        "\n",
        "# Create a box plot of the temperature columns\n",
        "weather[['TMIN', 'TAVG', 'TMAX']].plot(kind='box')\n",
        "\n",
        "# Display the plot\n",
        "plt.show()"
      ],
      "execution_count": 30,
      "outputs": [
        {
          "output_type": "stream",
          "name": "stdout",
          "text": [
            "              TMIN         TAVG         TMAX\n",
            "count  4017.000000  1217.000000  4017.000000\n",
            "mean     43.484441    52.493016    61.268608\n",
            "std      17.020298    17.830714    18.199517\n",
            "min      -5.000000     6.000000    15.000000\n",
            "25%      30.000000    39.000000    47.000000\n",
            "50%      44.000000    54.000000    62.000000\n",
            "75%      58.000000    68.000000    77.000000\n",
            "max      77.000000    86.000000   102.000000\n"
          ]
        },
        {
          "output_type": "stream",
          "name": "stderr",
          "text": [
            "/usr/local/lib/python3.7/dist-packages/numpy/core/_asarray.py:83: VisibleDeprecationWarning: Creating an ndarray from ragged nested sequences (which is a list-or-tuple of lists-or-tuples-or ndarrays with different lengths or shapes) is deprecated. If you meant to do this, you must specify 'dtype=object' when creating the ndarray\n",
            "  return array(a, dtype, copy=False, order=order)\n"
          ]
        },
        {
          "output_type": "display_data",
          "data": {
            "image/png": "[encoded data removed]",
            "text/plain": [
              "<Figure size 432x288 with 1 Axes>"
            ]
          },
          "metadata": {
            "needs_background": "light"
          }
        }
      ]
    },
    {
      "cell_type": "code",
      "metadata": {
        "id": "C65ou4YY0u7s",
        "colab": {
          "base_uri": "https://localhost:8080/",
          "height": 418
        },
        "outputId": "1fdf9163-e3ef-4573-cb66-325eed27295e"
      },
      "source": [
        "# Create a 'TDIFF' column that represents temperature difference\n",
        "weather['TDIFF'] = weather['TMAX'] - weather['TMIN']\n",
        "\n",
        "# Describe the 'TDIFF' column\n",
        "print(weather['TDIFF'].describe())\n",
        "\n",
        "# Create a histogram with 20 bins to visualize 'TDIFF'\n",
        "weather['TDIFF'].plot(kind='hist', bins=20)\n",
        "\n",
        "# Display the plot\n",
        "plt.show()"
      ],
      "execution_count": 31,
      "outputs": [
        {
          "output_type": "stream",
          "name": "stdout",
          "text": [
            "count    4017.000000\n",
            "mean       17.784167\n",
            "std         6.350720\n",
            "min         2.000000\n",
            "25%        14.000000\n",
            "50%        18.000000\n",
            "75%        22.000000\n",
            "max        43.000000\n",
            "Name: TDIFF, dtype: float64\n"
          ]
        },
        {
          "output_type": "display_data",
          "data": {
            "image/png": "[encoded data removed]",
            "text/plain": [
              "<Figure size 432x288 with 1 Axes>"
            ]
          },
          "metadata": {
            "needs_background": "light"
          }
        }
      ]
    },
    {
      "cell_type": "code",
      "metadata": {
        "id": "GJbsvfmG0u_c",
        "colab": {
          "base_uri": "https://localhost:8080/",
          "height": 265
        },
        "outputId": "01e3cedc-c576-4b73-f45e-9d1c2334da11"
      },
      "source": [
        "# Copy 'WT01' through 'WT22' to a new DataFrame\n",
        "WT = weather.loc[:, 'WT01':'WT22']\n",
        "\n",
        "# Calculate the sum of each row in 'WT'\n",
        "weather['bad_conditions'] = WT.sum(axis=1)\n",
        "\n",
        "# Replace missing values in 'bad_conditions' with '0'\n",
        "weather['bad_conditions'] = weather.bad_conditions.fillna(0).astype('int')\n",
        "\n",
        "# Create a histogram to visualize 'bad_conditions'\n",
        "weather['bad_conditions'].plot(kind='hist')\n",
        "\n",
        "# Display the plot\n",
        "plt.show()"
      ],
      "execution_count": 32,
      "outputs": [
        {
          "output_type": "display_data",
          "data": {
            "image/png": "[encoded data removed]",
            "text/plain": [
              "<Figure size 432x288 with 1 Axes>"
            ]
          },
          "metadata": {
            "needs_background": "light"
          }
        }
      ]
    },
    {
      "cell_type": "code",
      "metadata": {
        "id": "ACC4pyGi0vDS",
        "colab": {
          "base_uri": "https://localhost:8080/"
        },
        "outputId": "bf87d15b-4442-4510-83c5-62d6a4e85a4e"
      },
      "source": [
        "# Count the unique values in 'bad_conditions' and sort the index\n",
        "print(weather.bad_conditions.value_counts().sort_index())\n",
        "\n",
        "# Create a dictionary that maps integers to strings\n",
        "mapping = {0:'good', 1:'bad', 2:'bad', 3: 'bad', 4: 'bad', 5: 'worse', 6: 'worse', 7: 'worse', 8: 'worse', 9: 'worse'}\n",
        "\n",
        "# Convert the 'bad_conditions' integers to strings using the 'mapping'\n",
        "weather['rating'] = weather.bad_conditions.map(mapping)\n",
        "\n",
        "# Count the unique values in 'rating'\n",
        "print(weather['rating'].value_counts())"
      ],
      "execution_count": 33,
      "outputs": [
        {
          "output_type": "stream",
          "name": "stdout",
          "text": [
            "0    1749\n",
            "1     613\n",
            "2     367\n",
            "3     380\n",
            "4     476\n",
            "5     282\n",
            "6     101\n",
            "7      41\n",
            "8       4\n",
            "9       4\n",
            "Name: bad_conditions, dtype: int64\n",
            "bad      1836\n",
            "good     1749\n",
            "worse     432\n",
            "Name: rating, dtype: int64\n"
          ]
        }
      ]
    },
    {
      "cell_type": "code",
      "metadata": {
        "id": "To3h-hAa0vHw",
        "colab": {
          "base_uri": "https://localhost:8080/"
        },
        "outputId": "cf5045e0-ffe7-408a-a1bf-fef367b79642"
      },
      "source": [
        "# Create a list of weather ratings in logical order\n",
        "cats = ['good', 'bad', 'worse']\n",
        "\n",
        "# Change the data type of 'rating' to category\n",
        "#weather['rating'] = weather.rating.astype('category', ordered=True, categories=cats)\n",
        "weather['rating'] = weather.rating.astype('category')\n",
        "\n",
        "# Examine the head of 'rating'\n",
        "print(weather['rating'].head())"
      ],
      "execution_count": 37,
      "outputs": [
        {
          "output_type": "stream",
          "name": "stdout",
          "text": [
            "0    bad\n",
            "1    bad\n",
            "2    bad\n",
            "3    bad\n",
            "4    bad\n",
            "Name: rating, dtype: category\n",
            "Categories (3, object): ['bad', 'good', 'worse']\n"
          ]
        }
      ]
    },
    {
      "cell_type": "code",
      "metadata": {
        "id": "pWT4jEZT0vLq",
        "colab": {
          "base_uri": "https://localhost:8080/"
        },
        "outputId": "b2a6e389-dd50-4f9b-c63f-32b8dd37556c"
      },
      "source": [
        "# Reset the index of 'ri'\n",
        "ri.reset_index(inplace=True)\n",
        "\n",
        "# Examine the head of 'ri'\n",
        "print(ri.head())\n",
        "\n",
        "# Create a DataFrame from the 'DATE' and 'rating' columns\n",
        "weather_rating = weather[['DATE', 'rating']]\n",
        "\n",
        "# Examine the head of 'weather_rating'\n",
        "print(weather_rating.head())"
      ],
      "execution_count": 38,
      "outputs": [
        {
          "output_type": "stream",
          "name": "stdout",
          "text": [
            "        stop_datetime   stop_date stop_time  ... district  frisk stop_minutes\n",
            "0 2005-01-04 12:55:00  2005-01-04     12:55  ...  Zone X4  False            8\n",
            "1 2005-01-23 23:15:00  2005-01-23     23:15  ...  Zone K3  False            8\n",
            "2 2005-02-17 04:15:00  2005-02-17     04:15  ...  Zone X4  False            8\n",
            "3 2005-02-20 17:15:00  2005-02-20     17:15  ...  Zone X1  False           23\n",
            "4 2005-02-24 01:20:00  2005-02-24     01:20  ...  Zone X3  False            8\n",
            "\n",
            "[5 rows x 16 columns]\n",
            "         DATE rating\n",
            "0  2005-01-01    bad\n",
            "1  2005-01-02    bad\n",
            "2  2005-01-03    bad\n",
            "3  2005-01-04    bad\n",
            "4  2005-01-05    bad\n"
          ]
        }
      ]
    },
    {
      "cell_type": "code",
      "metadata": {
        "id": "vJtbesUd0vQK",
        "colab": {
          "base_uri": "https://localhost:8080/"
        },
        "outputId": "ab60f822-bfae-4c1a-a580-5a7e8caaf9ab"
      },
      "source": [
        "# Examine the shape of 'ri'\n",
        "print(ri.shape)\n",
        "\n",
        "# Merge 'ri' and 'weather_rating' using a left join\n",
        "ri_weather = pd.merge(left=ri, right=weather_rating, left_on='stop_date', right_on='DATE', how='inner')\n",
        "\n",
        "# Examine the shape of 'ri_weather'\n",
        "print(ri_weather.shape)\n",
        "\n",
        "# Set 'stop_datetime' as the index of 'ri_weather'\n",
        "ri_weather.set_index('stop_datetime', inplace=True)"
      ],
      "execution_count": 39,
      "outputs": [
        {
          "output_type": "stream",
          "name": "stdout",
          "text": [
            "(55080, 16)\n",
            "(55080, 18)\n"
          ]
        }
      ]
    },
    {
      "cell_type": "code",
      "metadata": {
        "id": "oikfs2vv0vU1",
        "colab": {
          "base_uri": "https://localhost:8080/"
        },
        "outputId": "cad75d3c-ca1b-4bdf-ff76-65ccd0a0a9a3"
      },
      "source": [
        "# Calculate the overall arrest rate\n",
        "print(ri_weather.is_arrested.mean())"
      ],
      "execution_count": 40,
      "outputs": [
        {
          "output_type": "stream",
          "name": "stdout",
          "text": [
            "0.03798111837327524\n"
          ]
        }
      ]
    },
    {
      "cell_type": "code",
      "metadata": {
        "id": "nIt3r4Fw0vYs",
        "colab": {
          "base_uri": "https://localhost:8080/"
        },
        "outputId": "ea19469d-d7a1-4403-d11f-73eee1f2dc42"
      },
      "source": [
        "# Calculate the arrest rate for each 'rating'\n",
        "print(ri_weather.groupby('rating').is_arrested.mean())"
      ],
      "execution_count": 41,
      "outputs": [
        {
          "output_type": "stream",
          "name": "stdout",
          "text": [
            "rating\n",
            "bad      0.039244\n",
            "good     0.035243\n",
            "worse    0.041754\n",
            "Name: is_arrested, dtype: float64\n"
          ]
        }
      ]
    },
    {
      "cell_type": "code",
      "metadata": {
        "colab": {
          "base_uri": "https://localhost:8080/"
        },
        "id": "jdxXN50xZk3U",
        "outputId": "cac3e923-a795-43e5-e8c2-37d4fc40bd74"
      },
      "source": [
        "# Calculate the arrest rate for each 'violation' and 'rating'\n",
        "print(ri_weather.groupby(['violation', 'rating']).is_arrested.mean())"
      ],
      "execution_count": 42,
      "outputs": [
        {
          "output_type": "stream",
          "name": "stdout",
          "text": [
            "violation            rating\n",
            "Equipment            bad       0.083234\n",
            "                     good      0.072745\n",
            "                     worse     0.098431\n",
            "Moving violation     bad       0.063387\n",
            "                     good      0.057625\n",
            "                     worse     0.066306\n",
            "Other                bad       0.090783\n",
            "                     good      0.062948\n",
            "                     worse     0.062992\n",
            "Registration/plates  bad       0.125385\n",
            "                     good      0.120497\n",
            "                     worse     0.117834\n",
            "Speeding             bad       0.015328\n",
            "                     good      0.016327\n",
            "                     worse     0.016755\n",
            "Name: is_arrested, dtype: float64\n"
          ]
        }
      ]
    },
    {
      "cell_type": "code",
      "metadata": {
        "colab": {
          "base_uri": "https://localhost:8080/"
        },
        "id": "wW6YbVoTZk6P",
        "outputId": "02bf8652-4527-4d28-dc2b-27d5afb2b708"
      },
      "source": [
        "# Save the output of the groupby operation from the last exercise\n",
        "arrest_rate = ri_weather.groupby(['violation', 'rating']).is_arrested.mean()\n",
        "\n",
        "# Print the 'arrest_rate' Series\n",
        "print(arrest_rate)\n",
        "\n",
        "# Print the arrest rate for moving violations in bad weather\n",
        "print(arrest_rate.loc['Moving violation', 'bad'])\n",
        "\n",
        "# Print the arrest rates for speeding violations in all three weather conditions\n",
        "print(arrest_rate.loc['Speeding'])"
      ],
      "execution_count": 43,
      "outputs": [
        {
          "output_type": "stream",
          "name": "stdout",
          "text": [
            "violation            rating\n",
            "Equipment            bad       0.083234\n",
            "                     good      0.072745\n",
            "                     worse     0.098431\n",
            "Moving violation     bad       0.063387\n",
            "                     good      0.057625\n",
            "                     worse     0.066306\n",
            "Other                bad       0.090783\n",
            "                     good      0.062948\n",
            "                     worse     0.062992\n",
            "Registration/plates  bad       0.125385\n",
            "                     good      0.120497\n",
            "                     worse     0.117834\n",
            "Speeding             bad       0.015328\n",
            "                     good      0.016327\n",
            "                     worse     0.016755\n",
            "Name: is_arrested, dtype: float64\n",
            "0.06338652482269504\n",
            "rating\n",
            "bad      0.015328\n",
            "good     0.016327\n",
            "worse    0.016755\n",
            "Name: is_arrested, dtype: float64\n"
          ]
        }
      ]
    },
    {
      "cell_type": "code",
      "metadata": {
        "colab": {
          "base_uri": "https://localhost:8080/"
        },
        "id": "KobXQ9PPZk92",
        "outputId": "e7653f79-4c4a-4416-dfaa-d01a17089557"
      },
      "source": [
        "# Unstack the 'arrest_rate' Series into a DataFrame\n",
        "print(arrest_rate.unstack())\n",
        "\n",
        "# Create the same DataFrame using a pivot table\n",
        "print(ri_weather.pivot_table(index='violation', columns='rating', values='is_arrested'))"
      ],
      "execution_count": 44,
      "outputs": [
        {
          "output_type": "stream",
          "name": "stdout",
          "text": [
            "rating                    bad      good     worse\n",
            "violation                                        \n",
            "Equipment            0.083234  0.072745  0.098431\n",
            "Moving violation     0.063387  0.057625  0.066306\n",
            "Other                0.090783  0.062948  0.062992\n",
            "Registration/plates  0.125385  0.120497  0.117834\n",
            "Speeding             0.015328  0.016327  0.016755\n",
            "rating                    bad      good     worse\n",
            "violation                                        \n",
            "Equipment            0.083234  0.072745  0.098431\n",
            "Moving violation     0.063387  0.057625  0.066306\n",
            "Other                0.090783  0.062948  0.062992\n",
            "Registration/plates  0.125385  0.120497  0.117834\n",
            "Speeding             0.015328  0.016327  0.016755\n"
          ]
        }
      ]
    },
    {
      "cell_type": "code",
      "metadata": {
        "id": "DhxIg8SbZlA1"
      },
      "source": [
        ""
      ],
      "execution_count": null,
      "outputs": []
    },
    {
      "cell_type": "code",
      "metadata": {
        "id": "MuI8JezAVKUm"
      },
      "source": [
        ""
      ],
      "execution_count": null,
      "outputs": []
    },
    {
      "cell_type": "code",
      "metadata": {
        "id": "xymtABdZVKYk"
      },
      "source": [
        ""
      ],
      "execution_count": null,
      "outputs": []
    }
  ]
}